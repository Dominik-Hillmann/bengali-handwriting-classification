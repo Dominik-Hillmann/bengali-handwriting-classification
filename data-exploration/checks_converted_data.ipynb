{
 "cells": [
  {
   "cell_type": "markdown",
   "metadata": {},
   "source": [
    "# Correctness checks for the converted data\n",
    "Here I will check whether new datasets I created from the initial ones were processed correctly.<br>\n",
    "**What is to be checked:**\n",
    "- Unpack a few rows - are the intended graphemes visible?\n",
    "- Look whether the index is continuous\n",
    "- Do the indexes and labels line up with the ones from the `.parquet` files?"
   ]
  },
  {
   "cell_type": "code",
   "execution_count": 1,
   "metadata": {},
   "outputs": [],
   "source": [
    "# Python libraries\n",
    "import os\n",
    "\n",
    "# External libraries\n",
    "import pandas as pd\n",
    "import numpy as np\n",
    "import cv2\n",
    "import matplotlib.pyplot as plt\n",
    "\n",
    "# Constants\n",
    "DATA_PATH = os.path.join('data', 'bengaliai-cv19')\n",
    "ORIG_DIMS = (137, 236)\n",
    "NEW_DIMS = (32, 32)"
   ]
  },
  {
   "cell_type": "markdown",
   "metadata": {},
   "source": [
    "## Load data"
   ]
  },
  {
   "cell_type": "code",
   "execution_count": 2,
   "metadata": {},
   "outputs": [],
   "source": [
    "# Converted low resolutiond data\n",
    "train_data_low_res = pd.read_parquet(os.path.join('..', DATA_PATH, '32by32-y-and-X.parquet'))\n",
    "train_y_low_res = train_data_low_res[train_data_low_res.columns[:3]]\n",
    "train_X_low_res = train_data_low_res[train_data_low_res.columns[3:]]\n",
    "del train_data_low_res\n",
    "\n",
    "# Original high resolution data - first batch\n",
    "train_X_high_res = pd.read_parquet(os.path.join('..', DATA_PATH, 'train_image_data_0.parquet'))\n",
    "train_y_high_res = pd.read_csv(os.path.join('..', DATA_PATH, 'train.csv'), index_col = 0)\n",
    "train_index_high_res = train_X_high_res['image_id']\n",
    "train_X_high_res.drop('image_id', axis = 'columns', inplace = True)\n",
    "train_X_high_res.index = train_index_high_res"
   ]
  },
  {
   "cell_type": "markdown",
   "metadata": {},
   "source": [
    "## Check whether graphemes are visible"
   ]
  },
  {
   "cell_type": "code",
   "execution_count": 3,
   "metadata": {},
   "outputs": [
    {
     "data": {
      "text/html": [
       "<div>\n",
       "<style scoped>\n",
       "    .dataframe tbody tr th:only-of-type {\n",
       "        vertical-align: middle;\n",
       "    }\n",
       "\n",
       "    .dataframe tbody tr th {\n",
       "        vertical-align: top;\n",
       "    }\n",
       "\n",
       "    .dataframe thead th {\n",
       "        text-align: right;\n",
       "    }\n",
       "</style>\n",
       "<table border=\"1\" class=\"dataframe\">\n",
       "  <thead>\n",
       "    <tr style=\"text-align: right;\">\n",
       "      <th></th>\n",
       "      <th>grapheme_root</th>\n",
       "      <th>vowel_diacritic</th>\n",
       "      <th>consonant_diacritic</th>\n",
       "    </tr>\n",
       "    <tr>\n",
       "      <th>image_id</th>\n",
       "      <th></th>\n",
       "      <th></th>\n",
       "      <th></th>\n",
       "    </tr>\n",
       "  </thead>\n",
       "  <tbody>\n",
       "    <tr>\n",
       "      <th>Train_0</th>\n",
       "      <td>15</td>\n",
       "      <td>9</td>\n",
       "      <td>5</td>\n",
       "    </tr>\n",
       "    <tr>\n",
       "      <th>Train_1</th>\n",
       "      <td>159</td>\n",
       "      <td>0</td>\n",
       "      <td>0</td>\n",
       "    </tr>\n",
       "    <tr>\n",
       "      <th>Train_2</th>\n",
       "      <td>22</td>\n",
       "      <td>3</td>\n",
       "      <td>5</td>\n",
       "    </tr>\n",
       "    <tr>\n",
       "      <th>Train_3</th>\n",
       "      <td>53</td>\n",
       "      <td>2</td>\n",
       "      <td>2</td>\n",
       "    </tr>\n",
       "    <tr>\n",
       "      <th>Train_4</th>\n",
       "      <td>71</td>\n",
       "      <td>9</td>\n",
       "      <td>5</td>\n",
       "    </tr>\n",
       "  </tbody>\n",
       "</table>\n",
       "</div>"
      ],
      "text/plain": [
       "          grapheme_root  vowel_diacritic  consonant_diacritic\n",
       "image_id                                                     \n",
       "Train_0              15                9                    5\n",
       "Train_1             159                0                    0\n",
       "Train_2              22                3                    5\n",
       "Train_3              53                2                    2\n",
       "Train_4              71                9                    5"
      ]
     },
     "metadata": {},
     "output_type": "display_data"
    },
    {
     "data": {
      "text/html": [
       "<div>\n",
       "<style scoped>\n",
       "    .dataframe tbody tr th:only-of-type {\n",
       "        vertical-align: middle;\n",
       "    }\n",
       "\n",
       "    .dataframe tbody tr th {\n",
       "        vertical-align: top;\n",
       "    }\n",
       "\n",
       "    .dataframe thead th {\n",
       "        text-align: right;\n",
       "    }\n",
       "</style>\n",
       "<table border=\"1\" class=\"dataframe\">\n",
       "  <thead>\n",
       "    <tr style=\"text-align: right;\">\n",
       "      <th></th>\n",
       "      <th>px_0</th>\n",
       "      <th>px_1</th>\n",
       "      <th>px_2</th>\n",
       "      <th>px_3</th>\n",
       "      <th>px_4</th>\n",
       "      <th>px_5</th>\n",
       "      <th>px_6</th>\n",
       "      <th>px_7</th>\n",
       "      <th>px_8</th>\n",
       "      <th>px_9</th>\n",
       "      <th>...</th>\n",
       "      <th>px_1014</th>\n",
       "      <th>px_1015</th>\n",
       "      <th>px_1016</th>\n",
       "      <th>px_1017</th>\n",
       "      <th>px_1018</th>\n",
       "      <th>px_1019</th>\n",
       "      <th>px_1020</th>\n",
       "      <th>px_1021</th>\n",
       "      <th>px_1022</th>\n",
       "      <th>px_1023</th>\n",
       "    </tr>\n",
       "    <tr>\n",
       "      <th>image_id</th>\n",
       "      <th></th>\n",
       "      <th></th>\n",
       "      <th></th>\n",
       "      <th></th>\n",
       "      <th></th>\n",
       "      <th></th>\n",
       "      <th></th>\n",
       "      <th></th>\n",
       "      <th></th>\n",
       "      <th></th>\n",
       "      <th></th>\n",
       "      <th></th>\n",
       "      <th></th>\n",
       "      <th></th>\n",
       "      <th></th>\n",
       "      <th></th>\n",
       "      <th></th>\n",
       "      <th></th>\n",
       "      <th></th>\n",
       "      <th></th>\n",
       "      <th></th>\n",
       "    </tr>\n",
       "  </thead>\n",
       "  <tbody>\n",
       "    <tr>\n",
       "      <th>Train_0</th>\n",
       "      <td>0.001906</td>\n",
       "      <td>0.000415</td>\n",
       "      <td>0.002600</td>\n",
       "      <td>0.002258</td>\n",
       "      <td>0.005785</td>\n",
       "      <td>0.006871</td>\n",
       "      <td>0.006949</td>\n",
       "      <td>0.005463</td>\n",
       "      <td>0.005430</td>\n",
       "      <td>0.005643</td>\n",
       "      <td>...</td>\n",
       "      <td>0.007843</td>\n",
       "      <td>0.007595</td>\n",
       "      <td>0.007600</td>\n",
       "      <td>0.012327</td>\n",
       "      <td>0.012198</td>\n",
       "      <td>0.010220</td>\n",
       "      <td>0.009887</td>\n",
       "      <td>0.007509</td>\n",
       "      <td>0.008277</td>\n",
       "      <td>0.007803</td>\n",
       "    </tr>\n",
       "    <tr>\n",
       "      <th>Train_1</th>\n",
       "      <td>0.018667</td>\n",
       "      <td>0.023037</td>\n",
       "      <td>0.013929</td>\n",
       "      <td>0.023317</td>\n",
       "      <td>0.026868</td>\n",
       "      <td>0.008661</td>\n",
       "      <td>0.010723</td>\n",
       "      <td>0.019810</td>\n",
       "      <td>0.005714</td>\n",
       "      <td>0.023165</td>\n",
       "      <td>...</td>\n",
       "      <td>0.000000</td>\n",
       "      <td>0.000000</td>\n",
       "      <td>0.000000</td>\n",
       "      <td>0.000000</td>\n",
       "      <td>0.000000</td>\n",
       "      <td>0.000000</td>\n",
       "      <td>0.000000</td>\n",
       "      <td>0.000000</td>\n",
       "      <td>0.000000</td>\n",
       "      <td>0.000000</td>\n",
       "    </tr>\n",
       "    <tr>\n",
       "      <th>Train_2</th>\n",
       "      <td>0.006062</td>\n",
       "      <td>0.008249</td>\n",
       "      <td>0.007255</td>\n",
       "      <td>0.007739</td>\n",
       "      <td>0.009229</td>\n",
       "      <td>0.018156</td>\n",
       "      <td>0.007934</td>\n",
       "      <td>0.006819</td>\n",
       "      <td>0.008034</td>\n",
       "      <td>0.000859</td>\n",
       "      <td>...</td>\n",
       "      <td>0.019438</td>\n",
       "      <td>0.008955</td>\n",
       "      <td>0.012067</td>\n",
       "      <td>0.007652</td>\n",
       "      <td>0.003685</td>\n",
       "      <td>0.007510</td>\n",
       "      <td>0.013560</td>\n",
       "      <td>0.013233</td>\n",
       "      <td>0.011498</td>\n",
       "      <td>0.005685</td>\n",
       "    </tr>\n",
       "    <tr>\n",
       "      <th>Train_3</th>\n",
       "      <td>0.009222</td>\n",
       "      <td>0.015793</td>\n",
       "      <td>0.018369</td>\n",
       "      <td>0.012095</td>\n",
       "      <td>0.015235</td>\n",
       "      <td>0.026717</td>\n",
       "      <td>0.018427</td>\n",
       "      <td>0.033407</td>\n",
       "      <td>0.027796</td>\n",
       "      <td>0.570809</td>\n",
       "      <td>...</td>\n",
       "      <td>0.005695</td>\n",
       "      <td>0.004757</td>\n",
       "      <td>-0.000370</td>\n",
       "      <td>0.001346</td>\n",
       "      <td>0.010515</td>\n",
       "      <td>0.004436</td>\n",
       "      <td>0.004871</td>\n",
       "      <td>0.004764</td>\n",
       "      <td>0.006612</td>\n",
       "      <td>0.007523</td>\n",
       "    </tr>\n",
       "    <tr>\n",
       "      <th>Train_4</th>\n",
       "      <td>0.019138</td>\n",
       "      <td>0.016926</td>\n",
       "      <td>0.021465</td>\n",
       "      <td>0.011470</td>\n",
       "      <td>0.037868</td>\n",
       "      <td>0.023061</td>\n",
       "      <td>0.000537</td>\n",
       "      <td>0.008053</td>\n",
       "      <td>0.011582</td>\n",
       "      <td>0.037127</td>\n",
       "      <td>...</td>\n",
       "      <td>0.000000</td>\n",
       "      <td>0.000000</td>\n",
       "      <td>0.000000</td>\n",
       "      <td>0.000000</td>\n",
       "      <td>0.000000</td>\n",
       "      <td>0.000000</td>\n",
       "      <td>0.000000</td>\n",
       "      <td>0.000000</td>\n",
       "      <td>0.000000</td>\n",
       "      <td>0.000000</td>\n",
       "    </tr>\n",
       "  </tbody>\n",
       "</table>\n",
       "<p>5 rows × 1024 columns</p>\n",
       "</div>"
      ],
      "text/plain": [
       "              px_0      px_1      px_2      px_3      px_4      px_5  \\\n",
       "image_id                                                               \n",
       "Train_0   0.001906  0.000415  0.002600  0.002258  0.005785  0.006871   \n",
       "Train_1   0.018667  0.023037  0.013929  0.023317  0.026868  0.008661   \n",
       "Train_2   0.006062  0.008249  0.007255  0.007739  0.009229  0.018156   \n",
       "Train_3   0.009222  0.015793  0.018369  0.012095  0.015235  0.026717   \n",
       "Train_4   0.019138  0.016926  0.021465  0.011470  0.037868  0.023061   \n",
       "\n",
       "              px_6      px_7      px_8      px_9  ...   px_1014   px_1015  \\\n",
       "image_id                                          ...                       \n",
       "Train_0   0.006949  0.005463  0.005430  0.005643  ...  0.007843  0.007595   \n",
       "Train_1   0.010723  0.019810  0.005714  0.023165  ...  0.000000  0.000000   \n",
       "Train_2   0.007934  0.006819  0.008034  0.000859  ...  0.019438  0.008955   \n",
       "Train_3   0.018427  0.033407  0.027796  0.570809  ...  0.005695  0.004757   \n",
       "Train_4   0.000537  0.008053  0.011582  0.037127  ...  0.000000  0.000000   \n",
       "\n",
       "           px_1016   px_1017   px_1018   px_1019   px_1020   px_1021  \\\n",
       "image_id                                                               \n",
       "Train_0   0.007600  0.012327  0.012198  0.010220  0.009887  0.007509   \n",
       "Train_1   0.000000  0.000000  0.000000  0.000000  0.000000  0.000000   \n",
       "Train_2   0.012067  0.007652  0.003685  0.007510  0.013560  0.013233   \n",
       "Train_3  -0.000370  0.001346  0.010515  0.004436  0.004871  0.004764   \n",
       "Train_4   0.000000  0.000000  0.000000  0.000000  0.000000  0.000000   \n",
       "\n",
       "           px_1022   px_1023  \n",
       "image_id                      \n",
       "Train_0   0.008277  0.007803  \n",
       "Train_1   0.000000  0.000000  \n",
       "Train_2   0.011498  0.005685  \n",
       "Train_3   0.006612  0.007523  \n",
       "Train_4   0.000000  0.000000  \n",
       "\n",
       "[5 rows x 1024 columns]"
      ]
     },
     "metadata": {},
     "output_type": "display_data"
    }
   ],
   "source": [
    "display(train_y_low_res.head(5))\n",
    "display(train_X_low_res.head(5))"
   ]
  },
  {
   "cell_type": "code",
   "execution_count": 4,
   "metadata": {},
   "outputs": [
    {
     "data": {
      "text/html": [
       "<div>\n",
       "<style scoped>\n",
       "    .dataframe tbody tr th:only-of-type {\n",
       "        vertical-align: middle;\n",
       "    }\n",
       "\n",
       "    .dataframe tbody tr th {\n",
       "        vertical-align: top;\n",
       "    }\n",
       "\n",
       "    .dataframe thead th {\n",
       "        text-align: right;\n",
       "    }\n",
       "</style>\n",
       "<table border=\"1\" class=\"dataframe\">\n",
       "  <thead>\n",
       "    <tr style=\"text-align: right;\">\n",
       "      <th></th>\n",
       "      <th>grapheme_root</th>\n",
       "      <th>vowel_diacritic</th>\n",
       "      <th>consonant_diacritic</th>\n",
       "      <th>grapheme</th>\n",
       "    </tr>\n",
       "    <tr>\n",
       "      <th>image_id</th>\n",
       "      <th></th>\n",
       "      <th></th>\n",
       "      <th></th>\n",
       "      <th></th>\n",
       "    </tr>\n",
       "  </thead>\n",
       "  <tbody>\n",
       "    <tr>\n",
       "      <th>Train_0</th>\n",
       "      <td>15</td>\n",
       "      <td>9</td>\n",
       "      <td>5</td>\n",
       "      <td>ক্ট্রো</td>\n",
       "    </tr>\n",
       "    <tr>\n",
       "      <th>Train_1</th>\n",
       "      <td>159</td>\n",
       "      <td>0</td>\n",
       "      <td>0</td>\n",
       "      <td>হ</td>\n",
       "    </tr>\n",
       "    <tr>\n",
       "      <th>Train_2</th>\n",
       "      <td>22</td>\n",
       "      <td>3</td>\n",
       "      <td>5</td>\n",
       "      <td>খ্রী</td>\n",
       "    </tr>\n",
       "    <tr>\n",
       "      <th>Train_3</th>\n",
       "      <td>53</td>\n",
       "      <td>2</td>\n",
       "      <td>2</td>\n",
       "      <td>র্টি</td>\n",
       "    </tr>\n",
       "    <tr>\n",
       "      <th>Train_4</th>\n",
       "      <td>71</td>\n",
       "      <td>9</td>\n",
       "      <td>5</td>\n",
       "      <td>থ্রো</td>\n",
       "    </tr>\n",
       "  </tbody>\n",
       "</table>\n",
       "</div>"
      ],
      "text/plain": [
       "          grapheme_root  vowel_diacritic  consonant_diacritic grapheme\n",
       "image_id                                                              \n",
       "Train_0              15                9                    5   ক্ট্রো\n",
       "Train_1             159                0                    0        হ\n",
       "Train_2              22                3                    5     খ্রী\n",
       "Train_3              53                2                    2     র্টি\n",
       "Train_4              71                9                    5     থ্রো"
      ]
     },
     "metadata": {},
     "output_type": "display_data"
    },
    {
     "data": {
      "text/html": [
       "<div>\n",
       "<style scoped>\n",
       "    .dataframe tbody tr th:only-of-type {\n",
       "        vertical-align: middle;\n",
       "    }\n",
       "\n",
       "    .dataframe tbody tr th {\n",
       "        vertical-align: top;\n",
       "    }\n",
       "\n",
       "    .dataframe thead th {\n",
       "        text-align: right;\n",
       "    }\n",
       "</style>\n",
       "<table border=\"1\" class=\"dataframe\">\n",
       "  <thead>\n",
       "    <tr style=\"text-align: right;\">\n",
       "      <th></th>\n",
       "      <th>0</th>\n",
       "      <th>1</th>\n",
       "      <th>2</th>\n",
       "      <th>3</th>\n",
       "      <th>4</th>\n",
       "      <th>5</th>\n",
       "      <th>6</th>\n",
       "      <th>7</th>\n",
       "      <th>8</th>\n",
       "      <th>9</th>\n",
       "      <th>...</th>\n",
       "      <th>32322</th>\n",
       "      <th>32323</th>\n",
       "      <th>32324</th>\n",
       "      <th>32325</th>\n",
       "      <th>32326</th>\n",
       "      <th>32327</th>\n",
       "      <th>32328</th>\n",
       "      <th>32329</th>\n",
       "      <th>32330</th>\n",
       "      <th>32331</th>\n",
       "    </tr>\n",
       "    <tr>\n",
       "      <th>image_id</th>\n",
       "      <th></th>\n",
       "      <th></th>\n",
       "      <th></th>\n",
       "      <th></th>\n",
       "      <th></th>\n",
       "      <th></th>\n",
       "      <th></th>\n",
       "      <th></th>\n",
       "      <th></th>\n",
       "      <th></th>\n",
       "      <th></th>\n",
       "      <th></th>\n",
       "      <th></th>\n",
       "      <th></th>\n",
       "      <th></th>\n",
       "      <th></th>\n",
       "      <th></th>\n",
       "      <th></th>\n",
       "      <th></th>\n",
       "      <th></th>\n",
       "      <th></th>\n",
       "    </tr>\n",
       "  </thead>\n",
       "  <tbody>\n",
       "    <tr>\n",
       "      <th>Train_0</th>\n",
       "      <td>254</td>\n",
       "      <td>253</td>\n",
       "      <td>252</td>\n",
       "      <td>253</td>\n",
       "      <td>251</td>\n",
       "      <td>252</td>\n",
       "      <td>253</td>\n",
       "      <td>251</td>\n",
       "      <td>251</td>\n",
       "      <td>253</td>\n",
       "      <td>...</td>\n",
       "      <td>253</td>\n",
       "      <td>253</td>\n",
       "      <td>253</td>\n",
       "      <td>253</td>\n",
       "      <td>253</td>\n",
       "      <td>253</td>\n",
       "      <td>253</td>\n",
       "      <td>253</td>\n",
       "      <td>253</td>\n",
       "      <td>251</td>\n",
       "    </tr>\n",
       "    <tr>\n",
       "      <th>Train_1</th>\n",
       "      <td>251</td>\n",
       "      <td>244</td>\n",
       "      <td>238</td>\n",
       "      <td>245</td>\n",
       "      <td>248</td>\n",
       "      <td>246</td>\n",
       "      <td>246</td>\n",
       "      <td>247</td>\n",
       "      <td>251</td>\n",
       "      <td>252</td>\n",
       "      <td>...</td>\n",
       "      <td>255</td>\n",
       "      <td>255</td>\n",
       "      <td>255</td>\n",
       "      <td>255</td>\n",
       "      <td>255</td>\n",
       "      <td>255</td>\n",
       "      <td>255</td>\n",
       "      <td>255</td>\n",
       "      <td>255</td>\n",
       "      <td>254</td>\n",
       "    </tr>\n",
       "    <tr>\n",
       "      <th>Train_2</th>\n",
       "      <td>251</td>\n",
       "      <td>250</td>\n",
       "      <td>249</td>\n",
       "      <td>250</td>\n",
       "      <td>249</td>\n",
       "      <td>245</td>\n",
       "      <td>247</td>\n",
       "      <td>252</td>\n",
       "      <td>252</td>\n",
       "      <td>252</td>\n",
       "      <td>...</td>\n",
       "      <td>254</td>\n",
       "      <td>253</td>\n",
       "      <td>252</td>\n",
       "      <td>252</td>\n",
       "      <td>253</td>\n",
       "      <td>253</td>\n",
       "      <td>253</td>\n",
       "      <td>253</td>\n",
       "      <td>251</td>\n",
       "      <td>249</td>\n",
       "    </tr>\n",
       "    <tr>\n",
       "      <th>Train_3</th>\n",
       "      <td>247</td>\n",
       "      <td>247</td>\n",
       "      <td>249</td>\n",
       "      <td>253</td>\n",
       "      <td>253</td>\n",
       "      <td>252</td>\n",
       "      <td>251</td>\n",
       "      <td>251</td>\n",
       "      <td>250</td>\n",
       "      <td>250</td>\n",
       "      <td>...</td>\n",
       "      <td>254</td>\n",
       "      <td>254</td>\n",
       "      <td>254</td>\n",
       "      <td>254</td>\n",
       "      <td>254</td>\n",
       "      <td>253</td>\n",
       "      <td>253</td>\n",
       "      <td>252</td>\n",
       "      <td>251</td>\n",
       "      <td>252</td>\n",
       "    </tr>\n",
       "    <tr>\n",
       "      <th>Train_4</th>\n",
       "      <td>249</td>\n",
       "      <td>248</td>\n",
       "      <td>246</td>\n",
       "      <td>246</td>\n",
       "      <td>248</td>\n",
       "      <td>244</td>\n",
       "      <td>242</td>\n",
       "      <td>242</td>\n",
       "      <td>229</td>\n",
       "      <td>225</td>\n",
       "      <td>...</td>\n",
       "      <td>255</td>\n",
       "      <td>255</td>\n",
       "      <td>255</td>\n",
       "      <td>255</td>\n",
       "      <td>255</td>\n",
       "      <td>255</td>\n",
       "      <td>255</td>\n",
       "      <td>255</td>\n",
       "      <td>255</td>\n",
       "      <td>255</td>\n",
       "    </tr>\n",
       "  </tbody>\n",
       "</table>\n",
       "<p>5 rows × 32332 columns</p>\n",
       "</div>"
      ],
      "text/plain": [
       "            0    1    2    3    4    5    6    7    8    9  ...  32322  32323  \\\n",
       "image_id                                                    ...                 \n",
       "Train_0   254  253  252  253  251  252  253  251  251  253  ...    253    253   \n",
       "Train_1   251  244  238  245  248  246  246  247  251  252  ...    255    255   \n",
       "Train_2   251  250  249  250  249  245  247  252  252  252  ...    254    253   \n",
       "Train_3   247  247  249  253  253  252  251  251  250  250  ...    254    254   \n",
       "Train_4   249  248  246  246  248  244  242  242  229  225  ...    255    255   \n",
       "\n",
       "          32324  32325  32326  32327  32328  32329  32330  32331  \n",
       "image_id                                                          \n",
       "Train_0     253    253    253    253    253    253    253    251  \n",
       "Train_1     255    255    255    255    255    255    255    254  \n",
       "Train_2     252    252    253    253    253    253    251    249  \n",
       "Train_3     254    254    254    253    253    252    251    252  \n",
       "Train_4     255    255    255    255    255    255    255    255  \n",
       "\n",
       "[5 rows x 32332 columns]"
      ]
     },
     "metadata": {},
     "output_type": "display_data"
    }
   ],
   "source": [
    "display(train_y_high_res.head(5))\n",
    "display(train_X_high_res.head(5))"
   ]
  },
  {
   "cell_type": "code",
   "execution_count": 5,
   "metadata": {},
   "outputs": [
    {
     "name": "stdout",
     "output_type": "stream",
     "text": [
      "Targets for low resolution image:\n"
     ]
    },
    {
     "data": {
      "text/plain": [
       "grapheme_root          139\n",
       "vowel_diacritic          3\n",
       "consonant_diacritic      0\n",
       "Name: Train_7, dtype: int64"
      ]
     },
     "metadata": {},
     "output_type": "display_data"
    },
    {
     "data": {
      "text/plain": [
       "<matplotlib.image.AxesImage at 0x1b099dbbc48>"
      ]
     },
     "execution_count": 5,
     "metadata": {},
     "output_type": "execute_result"
    },
    {
     "data": {
      "image/png": "[encoded data removed]",
      "text/plain": [
       "<Figure size 432x288 with 1 Axes>"
      ]
     },
     "metadata": {
      "needs_background": "light"
     },
     "output_type": "display_data"
    }
   ],
   "source": [
    "y_6_low_res = train_y_low_res.iloc[7]\n",
    "print('Targets for low resolution image:')\n",
    "display(y_6_low_res)\n",
    "\n",
    "grapheme_6_low_res = train_X_low_res.iloc[7].to_numpy()\n",
    "grapheme_6_low_res = grapheme_6_low_res.reshape(NEW_DIMS)\n",
    "plt.imshow(grapheme_6_low_res, cmap = 'Greys')"
   ]
  },
  {
   "cell_type": "code",
   "execution_count": 6,
   "metadata": {},
   "outputs": [
    {
     "name": "stdout",
     "output_type": "stream",
     "text": [
      "Targets for low resolution image:\n"
     ]
    },
    {
     "data": {
      "text/plain": [
       "grapheme_root          44\n",
       "vowel_diacritic         0\n",
       "consonant_diacritic     0\n",
       "Name: Train_33, dtype: int64"
      ]
     },
     "metadata": {},
     "output_type": "display_data"
    },
    {
     "data": {
      "text/plain": [
       "<matplotlib.image.AxesImage at 0x1b080a6c948>"
      ]
     },
     "execution_count": 6,
     "metadata": {},
     "output_type": "execute_result"
    },
    {
     "data": {
      "image/png": "[encoded data removed]",
      "text/plain": [
       "<Figure size 432x288 with 1 Axes>"
      ]
     },
     "metadata": {
      "needs_background": "light"
     },
     "output_type": "display_data"
    }
   ],
   "source": [
    "y_32_low_res = train_y_low_res.iloc[33]\n",
    "print('Targets for low resolution image:')\n",
    "display(y_32_low_res)\n",
    "\n",
    "grapheme_32_low_res = train_X_low_res.iloc[33].to_numpy()\n",
    "grapheme_32_low_res = grapheme_32_low_res.reshape(NEW_DIMS)\n",
    "plt.imshow(grapheme_32_low_res, cmap = 'Greys')"
   ]
  },
  {
   "cell_type": "markdown",
   "metadata": {},
   "source": [
    "Yay! The structure is still visible. But does it look like its high resolution counterpart?"
   ]
  },
  {
   "cell_type": "code",
   "execution_count": 7,
   "metadata": {},
   "outputs": [
    {
     "name": "stdout",
     "output_type": "stream",
     "text": [
      "Target for high resolution image:\n"
     ]
    },
    {
     "data": {
      "text/plain": [
       "grapheme_root          139\n",
       "vowel_diacritic          3\n",
       "consonant_diacritic      0\n",
       "grapheme                ষী\n",
       "Name: Train_7, dtype: object"
      ]
     },
     "metadata": {},
     "output_type": "display_data"
    },
    {
     "data": {
      "text/plain": [
       "<matplotlib.image.AxesImage at 0x1b080ae2a08>"
      ]
     },
     "execution_count": 7,
     "metadata": {},
     "output_type": "execute_result"
    },
    {
     "data": {
      "image/png": "[encoded data removed]",
      "text/plain": [
       "<Figure size 432x288 with 1 Axes>"
      ]
     },
     "metadata": {
      "needs_background": "light"
     },
     "output_type": "display_data"
    }
   ],
   "source": [
    "y_6_high_res = train_y_high_res.iloc[7]\n",
    "print('Target for high resolution image:')\n",
    "display(y_6_high_res)\n",
    "\n",
    "grapheme_6_high_res = train_X_high_res.iloc[7].to_numpy()\n",
    "grapheme_6_high_res = grapheme_6_high_res.reshape(ORIG_DIMS)\n",
    "grapheme_6_high_res = grapheme_6_high_res / 255.0\n",
    "grapheme_6_high_res = 1.0 - grapheme_6_high_res\n",
    "plt.imshow(grapheme_6_high_res, cmap = 'Greys')"
   ]
  },
  {
   "cell_type": "code",
   "execution_count": 8,
   "metadata": {},
   "outputs": [
    {
     "name": "stdout",
     "output_type": "stream",
     "text": [
      "Target for high resolution image:\n"
     ]
    },
    {
     "data": {
      "text/plain": [
       "grapheme_root           44\n",
       "vowel_diacritic          0\n",
       "consonant_diacritic      0\n",
       "grapheme               জ্জ\n",
       "Name: Train_33, dtype: object"
      ]
     },
     "metadata": {},
     "output_type": "display_data"
    },
    {
     "data": {
      "text/plain": [
       "<matplotlib.image.AxesImage at 0x1b080b46908>"
      ]
     },
     "execution_count": 8,
     "metadata": {},
     "output_type": "execute_result"
    },
    {
     "data": {
      "image/png": "[encoded data removed]",
      "text/plain": [
       "<Figure size 432x288 with 1 Axes>"
      ]
     },
     "metadata": {
      "needs_background": "light"
     },
     "output_type": "display_data"
    }
   ],
   "source": [
    "y_32_high_res = train_y_high_res.iloc[33]\n",
    "print('Target for high resolution image:')\n",
    "display(y_32_high_res)\n",
    "\n",
    "grapheme_32_high_res = train_X_high_res.iloc[33].to_numpy()\n",
    "grapheme_32_high_res = grapheme_32_high_res.reshape(ORIG_DIMS)\n",
    "grapheme_32_high_res = grapheme_32_high_res / 255.0\n",
    "grapheme_32_high_res = 1.0 - grapheme_32_high_res\n",
    "plt.imshow(grapheme_32_high_res, cmap = 'Greys')"
   ]
  },
  {
   "cell_type": "markdown",
   "metadata": {},
   "source": [
    "That's what I wanted. The pictures were saved correctly and they still correspond to their high res parents. Also, the targets did not get mixed up in the first branch.<br>\n",
    "Now we will take a look whether everything is okay in the middle and the end of the new dataset."
   ]
  },
  {
   "cell_type": "code",
   "execution_count": 9,
   "metadata": {},
   "outputs": [
    {
     "data": {
      "text/html": [
       "<div>\n",
       "<style scoped>\n",
       "    .dataframe tbody tr th:only-of-type {\n",
       "        vertical-align: middle;\n",
       "    }\n",
       "\n",
       "    .dataframe tbody tr th {\n",
       "        vertical-align: top;\n",
       "    }\n",
       "\n",
       "    .dataframe thead th {\n",
       "        text-align: right;\n",
       "    }\n",
       "</style>\n",
       "<table border=\"1\" class=\"dataframe\">\n",
       "  <thead>\n",
       "    <tr style=\"text-align: right;\">\n",
       "      <th></th>\n",
       "      <th>0</th>\n",
       "      <th>1</th>\n",
       "      <th>2</th>\n",
       "      <th>3</th>\n",
       "      <th>4</th>\n",
       "      <th>5</th>\n",
       "      <th>6</th>\n",
       "      <th>7</th>\n",
       "      <th>8</th>\n",
       "      <th>9</th>\n",
       "      <th>...</th>\n",
       "      <th>32322</th>\n",
       "      <th>32323</th>\n",
       "      <th>32324</th>\n",
       "      <th>32325</th>\n",
       "      <th>32326</th>\n",
       "      <th>32327</th>\n",
       "      <th>32328</th>\n",
       "      <th>32329</th>\n",
       "      <th>32330</th>\n",
       "      <th>32331</th>\n",
       "    </tr>\n",
       "    <tr>\n",
       "      <th>image_id</th>\n",
       "      <th></th>\n",
       "      <th></th>\n",
       "      <th></th>\n",
       "      <th></th>\n",
       "      <th></th>\n",
       "      <th></th>\n",
       "      <th></th>\n",
       "      <th></th>\n",
       "      <th></th>\n",
       "      <th></th>\n",
       "      <th></th>\n",
       "      <th></th>\n",
       "      <th></th>\n",
       "      <th></th>\n",
       "      <th></th>\n",
       "      <th></th>\n",
       "      <th></th>\n",
       "      <th></th>\n",
       "      <th></th>\n",
       "      <th></th>\n",
       "      <th></th>\n",
       "    </tr>\n",
       "  </thead>\n",
       "  <tbody>\n",
       "    <tr>\n",
       "      <th>Train_100420</th>\n",
       "      <td>247</td>\n",
       "      <td>246</td>\n",
       "      <td>249</td>\n",
       "      <td>250</td>\n",
       "      <td>249</td>\n",
       "      <td>250</td>\n",
       "      <td>253</td>\n",
       "      <td>253</td>\n",
       "      <td>252</td>\n",
       "      <td>252</td>\n",
       "      <td>...</td>\n",
       "      <td>255</td>\n",
       "      <td>254</td>\n",
       "      <td>254</td>\n",
       "      <td>255</td>\n",
       "      <td>255</td>\n",
       "      <td>255</td>\n",
       "      <td>254</td>\n",
       "      <td>253</td>\n",
       "      <td>252</td>\n",
       "      <td>254</td>\n",
       "    </tr>\n",
       "    <tr>\n",
       "      <th>Train_100421</th>\n",
       "      <td>247</td>\n",
       "      <td>249</td>\n",
       "      <td>251</td>\n",
       "      <td>252</td>\n",
       "      <td>252</td>\n",
       "      <td>249</td>\n",
       "      <td>250</td>\n",
       "      <td>252</td>\n",
       "      <td>249</td>\n",
       "      <td>248</td>\n",
       "      <td>...</td>\n",
       "      <td>254</td>\n",
       "      <td>253</td>\n",
       "      <td>253</td>\n",
       "      <td>253</td>\n",
       "      <td>253</td>\n",
       "      <td>253</td>\n",
       "      <td>253</td>\n",
       "      <td>253</td>\n",
       "      <td>253</td>\n",
       "      <td>253</td>\n",
       "    </tr>\n",
       "    <tr>\n",
       "      <th>Train_100422</th>\n",
       "      <td>241</td>\n",
       "      <td>224</td>\n",
       "      <td>227</td>\n",
       "      <td>227</td>\n",
       "      <td>226</td>\n",
       "      <td>223</td>\n",
       "      <td>219</td>\n",
       "      <td>231</td>\n",
       "      <td>236</td>\n",
       "      <td>224</td>\n",
       "      <td>...</td>\n",
       "      <td>252</td>\n",
       "      <td>251</td>\n",
       "      <td>251</td>\n",
       "      <td>247</td>\n",
       "      <td>247</td>\n",
       "      <td>251</td>\n",
       "      <td>252</td>\n",
       "      <td>251</td>\n",
       "      <td>249</td>\n",
       "      <td>250</td>\n",
       "    </tr>\n",
       "    <tr>\n",
       "      <th>Train_100423</th>\n",
       "      <td>237</td>\n",
       "      <td>244</td>\n",
       "      <td>246</td>\n",
       "      <td>244</td>\n",
       "      <td>242</td>\n",
       "      <td>241</td>\n",
       "      <td>242</td>\n",
       "      <td>245</td>\n",
       "      <td>246</td>\n",
       "      <td>245</td>\n",
       "      <td>...</td>\n",
       "      <td>199</td>\n",
       "      <td>199</td>\n",
       "      <td>208</td>\n",
       "      <td>217</td>\n",
       "      <td>216</td>\n",
       "      <td>212</td>\n",
       "      <td>208</td>\n",
       "      <td>210</td>\n",
       "      <td>210</td>\n",
       "      <td>171</td>\n",
       "    </tr>\n",
       "    <tr>\n",
       "      <th>Train_100424</th>\n",
       "      <td>251</td>\n",
       "      <td>249</td>\n",
       "      <td>253</td>\n",
       "      <td>252</td>\n",
       "      <td>250</td>\n",
       "      <td>252</td>\n",
       "      <td>253</td>\n",
       "      <td>252</td>\n",
       "      <td>252</td>\n",
       "      <td>253</td>\n",
       "      <td>...</td>\n",
       "      <td>255</td>\n",
       "      <td>255</td>\n",
       "      <td>255</td>\n",
       "      <td>255</td>\n",
       "      <td>255</td>\n",
       "      <td>255</td>\n",
       "      <td>255</td>\n",
       "      <td>255</td>\n",
       "      <td>255</td>\n",
       "      <td>255</td>\n",
       "    </tr>\n",
       "  </tbody>\n",
       "</table>\n",
       "<p>5 rows × 32332 columns</p>\n",
       "</div>"
      ],
      "text/plain": [
       "                0    1    2    3    4    5    6    7    8    9  ...  32322  \\\n",
       "image_id                                                        ...          \n",
       "Train_100420  247  246  249  250  249  250  253  253  252  252  ...    255   \n",
       "Train_100421  247  249  251  252  252  249  250  252  249  248  ...    254   \n",
       "Train_100422  241  224  227  227  226  223  219  231  236  224  ...    252   \n",
       "Train_100423  237  244  246  244  242  241  242  245  246  245  ...    199   \n",
       "Train_100424  251  249  253  252  250  252  253  252  252  253  ...    255   \n",
       "\n",
       "              32323  32324  32325  32326  32327  32328  32329  32330  32331  \n",
       "image_id                                                                     \n",
       "Train_100420    254    254    255    255    255    254    253    252    254  \n",
       "Train_100421    253    253    253    253    253    253    253    253    253  \n",
       "Train_100422    251    251    247    247    251    252    251    249    250  \n",
       "Train_100423    199    208    217    216    212    208    210    210    171  \n",
       "Train_100424    255    255    255    255    255    255    255    255    255  \n",
       "\n",
       "[5 rows x 32332 columns]"
      ]
     },
     "metadata": {},
     "output_type": "display_data"
    }
   ],
   "source": [
    "# Now replace the first batch with the third batch\n",
    "train_X_high_res = pd.read_parquet(os.path.join('..', DATA_PATH, 'train_image_data_2.parquet'))\n",
    "train_index_high_res = train_X_high_res['image_id']\n",
    "train_X_high_res.drop('image_id', axis = 'columns', inplace = True)\n",
    "train_X_high_res.index = train_index_high_res\n",
    "\n",
    "display(train_X_high_res.head(5))"
   ]
  },
  {
   "cell_type": "code",
   "execution_count": 10,
   "metadata": {},
   "outputs": [
    {
     "name": "stdout",
     "output_type": "stream",
     "text": [
      "grapheme_root          81\n",
      "vowel_diacritic         8\n",
      "consonant_diacritic     0\n",
      "grapheme               নৈ\n",
      "Name: Train_100423, dtype: object\n"
     ]
    },
    {
     "data": {
      "text/plain": [
       "<matplotlib.image.AxesImage at 0x1b086118e88>"
      ]
     },
     "execution_count": 10,
     "metadata": {},
     "output_type": "execute_result"
    },
    {
     "data": {
      "image/png": "[encoded data removed]",
      "text/plain": [
       "<Figure size 432x288 with 1 Axes>"
      ]
     },
     "metadata": {
      "needs_background": "light"
     },
     "output_type": "display_data"
    }
   ],
   "source": [
    "ob_3rd_batch = 'Train_100423'\n",
    "\n",
    "grapheme_100423_high_res = train_X_high_res.loc[ob_3rd_batch].to_numpy()\n",
    "grapheme_100423_high_res = grapheme_100423_high_res.reshape(ORIG_DIMS)\n",
    "grapheme_100423_high_res = grapheme_100423_high_res / 255.0\n",
    "grapheme_100423_high_res = 1.0 - grapheme_100423_high_res\n",
    "\n",
    "print(train_y_high_res.loc[ob_3rd_batch])\n",
    "plt.imshow(grapheme_100423_high_res, cmap = 'Greys')"
   ]
  },
  {
   "cell_type": "code",
   "execution_count": 11,
   "metadata": {},
   "outputs": [
    {
     "name": "stdout",
     "output_type": "stream",
     "text": [
      "grapheme_root          81\n",
      "vowel_diacritic         8\n",
      "consonant_diacritic     0\n",
      "Name: Train_100423, dtype: int64\n"
     ]
    },
    {
     "data": {
      "text/plain": [
       "<matplotlib.image.AxesImage at 0x1b086068788>"
      ]
     },
     "execution_count": 11,
     "metadata": {},
     "output_type": "execute_result"
    },
    {
     "data": {
      "image/png": "[encoded data removed]",
      "text/plain": [
       "<Figure size 432x288 with 1 Axes>"
      ]
     },
     "metadata": {
      "needs_background": "light"
     },
     "output_type": "display_data"
    }
   ],
   "source": [
    "grapheme_100423_low_res = train_X_low_res.loc[ob_3rd_batch].to_numpy()\n",
    "grapheme_100423_low_res = grapheme_100423_low_res.reshape(NEW_DIMS)\n",
    "\n",
    "print(train_y_low_res.loc[ob_3rd_batch])\n",
    "plt.imshow(grapheme_100423_low_res, cmap = 'Greys')"
   ]
  },
  {
   "cell_type": "markdown",
   "metadata": {},
   "source": [
    "To conclude: All indexes match the same observation, both for the data and the targets in both datasets. The data were processed correctly"
   ]
  }
 ],
 "metadata": {
  "kernelspec": {
   "display_name": "Python 3",
   "language": "python",
   "name": "python3"
  },
  "language_info": {
   "codemirror_mode": {
    "name": "ipython",
    "version": 3
   },
   "file_extension": ".py",
   "mimetype": "text/x-python",
   "name": "python",
   "nbconvert_exporter": "python",
   "pygments_lexer": "ipython3",
   "version": "3.7.6"
  }
 },
 "nbformat": 4,
 "nbformat_minor": 2
}
