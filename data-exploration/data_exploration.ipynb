{
 "cells": [
  {
   "cell_type": "markdown",
   "metadata": {},
   "source": [
    "# Bengali.AI Handwritten Grapheme Classification\n",
    "This is a contest for optical character recognition for the written Bengali language spoken by about 200 million people. Most of these people live in Bangladesh and India. Bengali consists of 49 letters (11 vowels, 38 consonants) which can have 18 accents. This multiplies to about 13 000 possible letters to be identified by a model."
   ]
  },
  {
   "cell_type": "markdown",
   "metadata": {},
   "source": [
    "![Header image](https://upload.wikimedia.org/wikipedia/commons/0/05/%E0%A6%AC%E0%A6%BE%E0%A6%82%E0%A6%B2%E0%A6%BE_%E0%A6%95%E0%A6%BE%E0%A6%B0%E0%A6%B8%E0%A6%AE%E0%A7%82%E0%A6%B9.svg)\n",
    "<a href=\"https://commons.wikimedia.org/wiki/File:%E0%A6%AC%E0%A6%BE%E0%A6%82%E0%A6%B2%E0%A6%BE_%E0%A6%95%E0%A6%BE%E0%A6%B0%E0%A6%B8%E0%A6%AE%E0%A7%82%E0%A6%B9.svg\" title=\"via Wikimedia Commons\">Nirvik12</a> [<a href=\"https://creativecommons.org/licenses/by-sa/4.0\">CC BY-SA</a>]"
   ]
  },
  {
   "cell_type": "markdown",
   "metadata": {},
   "source": [
    "## Goal\n",
    "This is why the recognition challenge is split up into three smaller challenges:\n",
    "1. Identify the base letter (*grapheme root*)\n",
    "2. Identify the accent of the vowel (*vowel diacritic*) or\n",
    "3. Identify the accent of the consonant (*consonant diacritic*)"
   ]
  },
  {
   "cell_type": "markdown",
   "metadata": {},
   "source": [
    "## Files\n",
    "* `class_map.csv`: 3 columns\n",
    "    * `Component_type` which are either the base letter or consonant accent or vowel accent\n",
    "    * `Label` the component label\n",
    "    * `Component` visual representation of the component\n",
    "* `train.csv`: contains meta information about the actual pictures\n",
    "    * `Image_Id` the key for the pictures contained in the `.parquet` files\n",
    "    * `Grapheme_root` the label of the base letter of this character\n",
    "    * `Vowel_diacritic` the label of the vowel accent\n",
    "    * `Consonant_diacritic` the label of the consonant diacritic\n",
    "    * `Graphme` the complete letter for illustration purposes\n",
    "    * **verify**: label 0 means that there is no accent because, for example, a vowel base letter cannot have a consonant accent. This means a classification into vowel and consonant beforehand might be useful\n",
    "* `test.csv`: every image will require three predictions\n",
    "    * `Row_Id` key to the sample submission\n",
    "    * `Image_Id` key to the `.parquet` file\n",
    "    * `Component` the component to be predicted\n",
    "* `sample_submission.csv`: the example\n",
    "    * `Row_Id` the submission key concatenated with the required diacritic\n",
    "    * `Target` the predicted label for the target type\n",
    "* `.parquet` files: contain the actual pixel data\n",
    "    * Four files for each train and test data\n",
    "    * *Going to find out more now...*"
   ]
  },
  {
   "cell_type": "markdown",
   "metadata": {},
   "source": [
    "## Data `*.parquet` files"
   ]
  },
  {
   "cell_type": "code",
   "execution_count": 1,
   "metadata": {},
   "outputs": [],
   "source": [
    "# Python libraries\n",
    "import os\n",
    "from pprint import pprint\n",
    "# External libraries\n",
    "import pandas as pd\n",
    "import numpy as np\n",
    "import matplotlib.pyplot as plt"
   ]
  },
  {
   "cell_type": "markdown",
   "metadata": {},
   "source": [
    "### What do the files contain?"
   ]
  },
  {
   "cell_type": "code",
   "execution_count": 2,
   "metadata": {},
   "outputs": [
    {
     "name": "stdout",
     "output_type": "stream",
     "text": [
      "['train_image_data_0.parquet', 'train_image_data_1.parquet', 'train_image_data_2.parquet', 'train_image_data_3.parquet']\n",
      "['test_image_data_0.parquet', 'test_image_data_1.parquet', 'test_image_data_2.parquet', 'test_image_data_3.parquet']\n"
     ]
    }
   ],
   "source": [
    "data_path = os.path.join('..', 'data', 'bengaliai-cv19')\n",
    "data_files = os.listdir(data_path)\n",
    "train_files = [f for f in data_files if 'parquet' in f and 'train' in f]\n",
    "test_files = [f for f in data_files if 'parquet' in f and 'test' in f]\n",
    "print(train_files)\n",
    "print(test_files)"
   ]
  },
  {
   "cell_type": "code",
   "execution_count": 3,
   "metadata": {},
   "outputs": [
    {
     "name": "stdout",
     "output_type": "stream",
     "text": [
      "Training data files:\n",
      "Shape: (50210, 32333)\n"
     ]
    },
    {
     "data": {
      "text/html": [
       "<div>\n",
       "<style scoped>\n",
       "    .dataframe tbody tr th:only-of-type {\n",
       "        vertical-align: middle;\n",
       "    }\n",
       "\n",
       "    .dataframe tbody tr th {\n",
       "        vertical-align: top;\n",
       "    }\n",
       "\n",
       "    .dataframe thead th {\n",
       "        text-align: right;\n",
       "    }\n",
       "</style>\n",
       "<table border=\"1\" class=\"dataframe\">\n",
       "  <thead>\n",
       "    <tr style=\"text-align: right;\">\n",
       "      <th></th>\n",
       "      <th>image_id</th>\n",
       "      <th>0</th>\n",
       "      <th>1</th>\n",
       "      <th>2</th>\n",
       "      <th>3</th>\n",
       "      <th>4</th>\n",
       "      <th>5</th>\n",
       "      <th>6</th>\n",
       "      <th>7</th>\n",
       "      <th>8</th>\n",
       "      <th>...</th>\n",
       "      <th>32322</th>\n",
       "      <th>32323</th>\n",
       "      <th>32324</th>\n",
       "      <th>32325</th>\n",
       "      <th>32326</th>\n",
       "      <th>32327</th>\n",
       "      <th>32328</th>\n",
       "      <th>32329</th>\n",
       "      <th>32330</th>\n",
       "      <th>32331</th>\n",
       "    </tr>\n",
       "  </thead>\n",
       "  <tbody>\n",
       "    <tr>\n",
       "      <th>0</th>\n",
       "      <td>Train_0</td>\n",
       "      <td>254</td>\n",
       "      <td>253</td>\n",
       "      <td>252</td>\n",
       "      <td>253</td>\n",
       "      <td>251</td>\n",
       "      <td>252</td>\n",
       "      <td>253</td>\n",
       "      <td>251</td>\n",
       "      <td>251</td>\n",
       "      <td>...</td>\n",
       "      <td>253</td>\n",
       "      <td>253</td>\n",
       "      <td>253</td>\n",
       "      <td>253</td>\n",
       "      <td>253</td>\n",
       "      <td>253</td>\n",
       "      <td>253</td>\n",
       "      <td>253</td>\n",
       "      <td>253</td>\n",
       "      <td>251</td>\n",
       "    </tr>\n",
       "    <tr>\n",
       "      <th>1</th>\n",
       "      <td>Train_1</td>\n",
       "      <td>251</td>\n",
       "      <td>244</td>\n",
       "      <td>238</td>\n",
       "      <td>245</td>\n",
       "      <td>248</td>\n",
       "      <td>246</td>\n",
       "      <td>246</td>\n",
       "      <td>247</td>\n",
       "      <td>251</td>\n",
       "      <td>...</td>\n",
       "      <td>255</td>\n",
       "      <td>255</td>\n",
       "      <td>255</td>\n",
       "      <td>255</td>\n",
       "      <td>255</td>\n",
       "      <td>255</td>\n",
       "      <td>255</td>\n",
       "      <td>255</td>\n",
       "      <td>255</td>\n",
       "      <td>254</td>\n",
       "    </tr>\n",
       "    <tr>\n",
       "      <th>2</th>\n",
       "      <td>Train_2</td>\n",
       "      <td>251</td>\n",
       "      <td>250</td>\n",
       "      <td>249</td>\n",
       "      <td>250</td>\n",
       "      <td>249</td>\n",
       "      <td>245</td>\n",
       "      <td>247</td>\n",
       "      <td>252</td>\n",
       "      <td>252</td>\n",
       "      <td>...</td>\n",
       "      <td>254</td>\n",
       "      <td>253</td>\n",
       "      <td>252</td>\n",
       "      <td>252</td>\n",
       "      <td>253</td>\n",
       "      <td>253</td>\n",
       "      <td>253</td>\n",
       "      <td>253</td>\n",
       "      <td>251</td>\n",
       "      <td>249</td>\n",
       "    </tr>\n",
       "  </tbody>\n",
       "</table>\n",
       "<p>3 rows × 32333 columns</p>\n",
       "</div>"
      ],
      "text/plain": [
       "  image_id    0    1    2    3    4    5    6    7    8  ...  32322  32323  \\\n",
       "0  Train_0  254  253  252  253  251  252  253  251  251  ...    253    253   \n",
       "1  Train_1  251  244  238  245  248  246  246  247  251  ...    255    255   \n",
       "2  Train_2  251  250  249  250  249  245  247  252  252  ...    254    253   \n",
       "\n",
       "   32324  32325  32326  32327  32328  32329  32330  32331  \n",
       "0    253    253    253    253    253    253    253    251  \n",
       "1    255    255    255    255    255    255    255    254  \n",
       "2    252    252    253    253    253    253    251    249  \n",
       "\n",
       "[3 rows x 32333 columns]"
      ]
     },
     "metadata": {},
     "output_type": "display_data"
    },
    {
     "name": "stdout",
     "output_type": "stream",
     "text": [
      "Shape: (50210, 32333)\n"
     ]
    },
    {
     "data": {
      "text/html": [
       "<div>\n",
       "<style scoped>\n",
       "    .dataframe tbody tr th:only-of-type {\n",
       "        vertical-align: middle;\n",
       "    }\n",
       "\n",
       "    .dataframe tbody tr th {\n",
       "        vertical-align: top;\n",
       "    }\n",
       "\n",
       "    .dataframe thead th {\n",
       "        text-align: right;\n",
       "    }\n",
       "</style>\n",
       "<table border=\"1\" class=\"dataframe\">\n",
       "  <thead>\n",
       "    <tr style=\"text-align: right;\">\n",
       "      <th></th>\n",
       "      <th>image_id</th>\n",
       "      <th>0</th>\n",
       "      <th>1</th>\n",
       "      <th>2</th>\n",
       "      <th>3</th>\n",
       "      <th>4</th>\n",
       "      <th>5</th>\n",
       "      <th>6</th>\n",
       "      <th>7</th>\n",
       "      <th>8</th>\n",
       "      <th>...</th>\n",
       "      <th>32322</th>\n",
       "      <th>32323</th>\n",
       "      <th>32324</th>\n",
       "      <th>32325</th>\n",
       "      <th>32326</th>\n",
       "      <th>32327</th>\n",
       "      <th>32328</th>\n",
       "      <th>32329</th>\n",
       "      <th>32330</th>\n",
       "      <th>32331</th>\n",
       "    </tr>\n",
       "  </thead>\n",
       "  <tbody>\n",
       "    <tr>\n",
       "      <th>0</th>\n",
       "      <td>Train_50210</td>\n",
       "      <td>246</td>\n",
       "      <td>253</td>\n",
       "      <td>251</td>\n",
       "      <td>250</td>\n",
       "      <td>249</td>\n",
       "      <td>252</td>\n",
       "      <td>246</td>\n",
       "      <td>250</td>\n",
       "      <td>250</td>\n",
       "      <td>...</td>\n",
       "      <td>255</td>\n",
       "      <td>255</td>\n",
       "      <td>255</td>\n",
       "      <td>255</td>\n",
       "      <td>255</td>\n",
       "      <td>255</td>\n",
       "      <td>255</td>\n",
       "      <td>255</td>\n",
       "      <td>254</td>\n",
       "      <td>253</td>\n",
       "    </tr>\n",
       "    <tr>\n",
       "      <th>1</th>\n",
       "      <td>Train_50211</td>\n",
       "      <td>250</td>\n",
       "      <td>245</td>\n",
       "      <td>241</td>\n",
       "      <td>244</td>\n",
       "      <td>249</td>\n",
       "      <td>253</td>\n",
       "      <td>253</td>\n",
       "      <td>254</td>\n",
       "      <td>254</td>\n",
       "      <td>...</td>\n",
       "      <td>254</td>\n",
       "      <td>254</td>\n",
       "      <td>253</td>\n",
       "      <td>253</td>\n",
       "      <td>253</td>\n",
       "      <td>254</td>\n",
       "      <td>255</td>\n",
       "      <td>253</td>\n",
       "      <td>253</td>\n",
       "      <td>254</td>\n",
       "    </tr>\n",
       "    <tr>\n",
       "      <th>2</th>\n",
       "      <td>Train_50212</td>\n",
       "      <td>248</td>\n",
       "      <td>248</td>\n",
       "      <td>249</td>\n",
       "      <td>249</td>\n",
       "      <td>250</td>\n",
       "      <td>251</td>\n",
       "      <td>250</td>\n",
       "      <td>250</td>\n",
       "      <td>249</td>\n",
       "      <td>...</td>\n",
       "      <td>255</td>\n",
       "      <td>255</td>\n",
       "      <td>255</td>\n",
       "      <td>255</td>\n",
       "      <td>255</td>\n",
       "      <td>255</td>\n",
       "      <td>255</td>\n",
       "      <td>255</td>\n",
       "      <td>255</td>\n",
       "      <td>255</td>\n",
       "    </tr>\n",
       "  </tbody>\n",
       "</table>\n",
       "<p>3 rows × 32333 columns</p>\n",
       "</div>"
      ],
      "text/plain": [
       "      image_id    0    1    2    3    4    5    6    7    8  ...  32322  \\\n",
       "0  Train_50210  246  253  251  250  249  252  246  250  250  ...    255   \n",
       "1  Train_50211  250  245  241  244  249  253  253  254  254  ...    254   \n",
       "2  Train_50212  248  248  249  249  250  251  250  250  249  ...    255   \n",
       "\n",
       "   32323  32324  32325  32326  32327  32328  32329  32330  32331  \n",
       "0    255    255    255    255    255    255    255    254    253  \n",
       "1    254    253    253    253    254    255    253    253    254  \n",
       "2    255    255    255    255    255    255    255    255    255  \n",
       "\n",
       "[3 rows x 32333 columns]"
      ]
     },
     "metadata": {},
     "output_type": "display_data"
    },
    {
     "name": "stdout",
     "output_type": "stream",
     "text": [
      "Shape: (50210, 32333)\n"
     ]
    },
    {
     "data": {
      "text/html": [
       "<div>\n",
       "<style scoped>\n",
       "    .dataframe tbody tr th:only-of-type {\n",
       "        vertical-align: middle;\n",
       "    }\n",
       "\n",
       "    .dataframe tbody tr th {\n",
       "        vertical-align: top;\n",
       "    }\n",
       "\n",
       "    .dataframe thead th {\n",
       "        text-align: right;\n",
       "    }\n",
       "</style>\n",
       "<table border=\"1\" class=\"dataframe\">\n",
       "  <thead>\n",
       "    <tr style=\"text-align: right;\">\n",
       "      <th></th>\n",
       "      <th>image_id</th>\n",
       "      <th>0</th>\n",
       "      <th>1</th>\n",
       "      <th>2</th>\n",
       "      <th>3</th>\n",
       "      <th>4</th>\n",
       "      <th>5</th>\n",
       "      <th>6</th>\n",
       "      <th>7</th>\n",
       "      <th>8</th>\n",
       "      <th>...</th>\n",
       "      <th>32322</th>\n",
       "      <th>32323</th>\n",
       "      <th>32324</th>\n",
       "      <th>32325</th>\n",
       "      <th>32326</th>\n",
       "      <th>32327</th>\n",
       "      <th>32328</th>\n",
       "      <th>32329</th>\n",
       "      <th>32330</th>\n",
       "      <th>32331</th>\n",
       "    </tr>\n",
       "  </thead>\n",
       "  <tbody>\n",
       "    <tr>\n",
       "      <th>0</th>\n",
       "      <td>Train_100420</td>\n",
       "      <td>247</td>\n",
       "      <td>246</td>\n",
       "      <td>249</td>\n",
       "      <td>250</td>\n",
       "      <td>249</td>\n",
       "      <td>250</td>\n",
       "      <td>253</td>\n",
       "      <td>253</td>\n",
       "      <td>252</td>\n",
       "      <td>...</td>\n",
       "      <td>255</td>\n",
       "      <td>254</td>\n",
       "      <td>254</td>\n",
       "      <td>255</td>\n",
       "      <td>255</td>\n",
       "      <td>255</td>\n",
       "      <td>254</td>\n",
       "      <td>253</td>\n",
       "      <td>252</td>\n",
       "      <td>254</td>\n",
       "    </tr>\n",
       "    <tr>\n",
       "      <th>1</th>\n",
       "      <td>Train_100421</td>\n",
       "      <td>247</td>\n",
       "      <td>249</td>\n",
       "      <td>251</td>\n",
       "      <td>252</td>\n",
       "      <td>252</td>\n",
       "      <td>249</td>\n",
       "      <td>250</td>\n",
       "      <td>252</td>\n",
       "      <td>249</td>\n",
       "      <td>...</td>\n",
       "      <td>254</td>\n",
       "      <td>253</td>\n",
       "      <td>253</td>\n",
       "      <td>253</td>\n",
       "      <td>253</td>\n",
       "      <td>253</td>\n",
       "      <td>253</td>\n",
       "      <td>253</td>\n",
       "      <td>253</td>\n",
       "      <td>253</td>\n",
       "    </tr>\n",
       "    <tr>\n",
       "      <th>2</th>\n",
       "      <td>Train_100422</td>\n",
       "      <td>241</td>\n",
       "      <td>224</td>\n",
       "      <td>227</td>\n",
       "      <td>227</td>\n",
       "      <td>226</td>\n",
       "      <td>223</td>\n",
       "      <td>219</td>\n",
       "      <td>231</td>\n",
       "      <td>236</td>\n",
       "      <td>...</td>\n",
       "      <td>252</td>\n",
       "      <td>251</td>\n",
       "      <td>251</td>\n",
       "      <td>247</td>\n",
       "      <td>247</td>\n",
       "      <td>251</td>\n",
       "      <td>252</td>\n",
       "      <td>251</td>\n",
       "      <td>249</td>\n",
       "      <td>250</td>\n",
       "    </tr>\n",
       "  </tbody>\n",
       "</table>\n",
       "<p>3 rows × 32333 columns</p>\n",
       "</div>"
      ],
      "text/plain": [
       "       image_id    0    1    2    3    4    5    6    7    8  ...  32322  \\\n",
       "0  Train_100420  247  246  249  250  249  250  253  253  252  ...    255   \n",
       "1  Train_100421  247  249  251  252  252  249  250  252  249  ...    254   \n",
       "2  Train_100422  241  224  227  227  226  223  219  231  236  ...    252   \n",
       "\n",
       "   32323  32324  32325  32326  32327  32328  32329  32330  32331  \n",
       "0    254    254    255    255    255    254    253    252    254  \n",
       "1    253    253    253    253    253    253    253    253    253  \n",
       "2    251    251    247    247    251    252    251    249    250  \n",
       "\n",
       "[3 rows x 32333 columns]"
      ]
     },
     "metadata": {},
     "output_type": "display_data"
    },
    {
     "name": "stdout",
     "output_type": "stream",
     "text": [
      "Shape: (50210, 32333)\n"
     ]
    },
    {
     "data": {
      "text/html": [
       "<div>\n",
       "<style scoped>\n",
       "    .dataframe tbody tr th:only-of-type {\n",
       "        vertical-align: middle;\n",
       "    }\n",
       "\n",
       "    .dataframe tbody tr th {\n",
       "        vertical-align: top;\n",
       "    }\n",
       "\n",
       "    .dataframe thead th {\n",
       "        text-align: right;\n",
       "    }\n",
       "</style>\n",
       "<table border=\"1\" class=\"dataframe\">\n",
       "  <thead>\n",
       "    <tr style=\"text-align: right;\">\n",
       "      <th></th>\n",
       "      <th>image_id</th>\n",
       "      <th>0</th>\n",
       "      <th>1</th>\n",
       "      <th>2</th>\n",
       "      <th>3</th>\n",
       "      <th>4</th>\n",
       "      <th>5</th>\n",
       "      <th>6</th>\n",
       "      <th>7</th>\n",
       "      <th>8</th>\n",
       "      <th>...</th>\n",
       "      <th>32322</th>\n",
       "      <th>32323</th>\n",
       "      <th>32324</th>\n",
       "      <th>32325</th>\n",
       "      <th>32326</th>\n",
       "      <th>32327</th>\n",
       "      <th>32328</th>\n",
       "      <th>32329</th>\n",
       "      <th>32330</th>\n",
       "      <th>32331</th>\n",
       "    </tr>\n",
       "  </thead>\n",
       "  <tbody>\n",
       "    <tr>\n",
       "      <th>0</th>\n",
       "      <td>Train_150630</td>\n",
       "      <td>246</td>\n",
       "      <td>245</td>\n",
       "      <td>244</td>\n",
       "      <td>244</td>\n",
       "      <td>245</td>\n",
       "      <td>247</td>\n",
       "      <td>246</td>\n",
       "      <td>244</td>\n",
       "      <td>247</td>\n",
       "      <td>...</td>\n",
       "      <td>252</td>\n",
       "      <td>252</td>\n",
       "      <td>251</td>\n",
       "      <td>251</td>\n",
       "      <td>251</td>\n",
       "      <td>251</td>\n",
       "      <td>251</td>\n",
       "      <td>252</td>\n",
       "      <td>253</td>\n",
       "      <td>252</td>\n",
       "    </tr>\n",
       "    <tr>\n",
       "      <th>1</th>\n",
       "      <td>Train_150631</td>\n",
       "      <td>213</td>\n",
       "      <td>241</td>\n",
       "      <td>247</td>\n",
       "      <td>247</td>\n",
       "      <td>246</td>\n",
       "      <td>247</td>\n",
       "      <td>246</td>\n",
       "      <td>244</td>\n",
       "      <td>247</td>\n",
       "      <td>...</td>\n",
       "      <td>193</td>\n",
       "      <td>198</td>\n",
       "      <td>200</td>\n",
       "      <td>202</td>\n",
       "      <td>200</td>\n",
       "      <td>196</td>\n",
       "      <td>194</td>\n",
       "      <td>192</td>\n",
       "      <td>175</td>\n",
       "      <td>117</td>\n",
       "    </tr>\n",
       "    <tr>\n",
       "      <th>2</th>\n",
       "      <td>Train_150632</td>\n",
       "      <td>253</td>\n",
       "      <td>253</td>\n",
       "      <td>252</td>\n",
       "      <td>252</td>\n",
       "      <td>251</td>\n",
       "      <td>252</td>\n",
       "      <td>253</td>\n",
       "      <td>253</td>\n",
       "      <td>253</td>\n",
       "      <td>...</td>\n",
       "      <td>253</td>\n",
       "      <td>253</td>\n",
       "      <td>253</td>\n",
       "      <td>253</td>\n",
       "      <td>253</td>\n",
       "      <td>253</td>\n",
       "      <td>253</td>\n",
       "      <td>253</td>\n",
       "      <td>253</td>\n",
       "      <td>253</td>\n",
       "    </tr>\n",
       "  </tbody>\n",
       "</table>\n",
       "<p>3 rows × 32333 columns</p>\n",
       "</div>"
      ],
      "text/plain": [
       "       image_id    0    1    2    3    4    5    6    7    8  ...  32322  \\\n",
       "0  Train_150630  246  245  244  244  245  247  246  244  247  ...    252   \n",
       "1  Train_150631  213  241  247  247  246  247  246  244  247  ...    193   \n",
       "2  Train_150632  253  253  252  252  251  252  253  253  253  ...    253   \n",
       "\n",
       "   32323  32324  32325  32326  32327  32328  32329  32330  32331  \n",
       "0    252    251    251    251    251    251    252    253    252  \n",
       "1    198    200    202    200    196    194    192    175    117  \n",
       "2    253    253    253    253    253    253    253    253    253  \n",
       "\n",
       "[3 rows x 32333 columns]"
      ]
     },
     "metadata": {},
     "output_type": "display_data"
    },
    {
     "name": "stdout",
     "output_type": "stream",
     "text": [
      "Test data files:\n",
      "Shape: (3, 32333)\n"
     ]
    },
    {
     "data": {
      "text/html": [
       "<div>\n",
       "<style scoped>\n",
       "    .dataframe tbody tr th:only-of-type {\n",
       "        vertical-align: middle;\n",
       "    }\n",
       "\n",
       "    .dataframe tbody tr th {\n",
       "        vertical-align: top;\n",
       "    }\n",
       "\n",
       "    .dataframe thead th {\n",
       "        text-align: right;\n",
       "    }\n",
       "</style>\n",
       "<table border=\"1\" class=\"dataframe\">\n",
       "  <thead>\n",
       "    <tr style=\"text-align: right;\">\n",
       "      <th></th>\n",
       "      <th>image_id</th>\n",
       "      <th>0</th>\n",
       "      <th>1</th>\n",
       "      <th>2</th>\n",
       "      <th>3</th>\n",
       "      <th>4</th>\n",
       "      <th>5</th>\n",
       "      <th>6</th>\n",
       "      <th>7</th>\n",
       "      <th>8</th>\n",
       "      <th>...</th>\n",
       "      <th>32322</th>\n",
       "      <th>32323</th>\n",
       "      <th>32324</th>\n",
       "      <th>32325</th>\n",
       "      <th>32326</th>\n",
       "      <th>32327</th>\n",
       "      <th>32328</th>\n",
       "      <th>32329</th>\n",
       "      <th>32330</th>\n",
       "      <th>32331</th>\n",
       "    </tr>\n",
       "  </thead>\n",
       "  <tbody>\n",
       "    <tr>\n",
       "      <th>0</th>\n",
       "      <td>Test_0</td>\n",
       "      <td>247</td>\n",
       "      <td>253</td>\n",
       "      <td>253</td>\n",
       "      <td>252</td>\n",
       "      <td>252</td>\n",
       "      <td>252</td>\n",
       "      <td>252</td>\n",
       "      <td>253</td>\n",
       "      <td>253</td>\n",
       "      <td>...</td>\n",
       "      <td>254</td>\n",
       "      <td>254</td>\n",
       "      <td>254</td>\n",
       "      <td>254</td>\n",
       "      <td>254</td>\n",
       "      <td>254</td>\n",
       "      <td>253</td>\n",
       "      <td>253</td>\n",
       "      <td>252</td>\n",
       "      <td>250</td>\n",
       "    </tr>\n",
       "    <tr>\n",
       "      <th>1</th>\n",
       "      <td>Test_1</td>\n",
       "      <td>253</td>\n",
       "      <td>253</td>\n",
       "      <td>253</td>\n",
       "      <td>253</td>\n",
       "      <td>253</td>\n",
       "      <td>253</td>\n",
       "      <td>253</td>\n",
       "      <td>253</td>\n",
       "      <td>253</td>\n",
       "      <td>...</td>\n",
       "      <td>255</td>\n",
       "      <td>255</td>\n",
       "      <td>255</td>\n",
       "      <td>255</td>\n",
       "      <td>255</td>\n",
       "      <td>255</td>\n",
       "      <td>255</td>\n",
       "      <td>255</td>\n",
       "      <td>255</td>\n",
       "      <td>255</td>\n",
       "    </tr>\n",
       "    <tr>\n",
       "      <th>2</th>\n",
       "      <td>Test_2</td>\n",
       "      <td>253</td>\n",
       "      <td>253</td>\n",
       "      <td>253</td>\n",
       "      <td>253</td>\n",
       "      <td>253</td>\n",
       "      <td>252</td>\n",
       "      <td>251</td>\n",
       "      <td>252</td>\n",
       "      <td>252</td>\n",
       "      <td>...</td>\n",
       "      <td>255</td>\n",
       "      <td>255</td>\n",
       "      <td>255</td>\n",
       "      <td>255</td>\n",
       "      <td>255</td>\n",
       "      <td>255</td>\n",
       "      <td>255</td>\n",
       "      <td>254</td>\n",
       "      <td>253</td>\n",
       "      <td>252</td>\n",
       "    </tr>\n",
       "  </tbody>\n",
       "</table>\n",
       "<p>3 rows × 32333 columns</p>\n",
       "</div>"
      ],
      "text/plain": [
       "  image_id    0    1    2    3    4    5    6    7    8  ...  32322  32323  \\\n",
       "0   Test_0  247  253  253  252  252  252  252  253  253  ...    254    254   \n",
       "1   Test_1  253  253  253  253  253  253  253  253  253  ...    255    255   \n",
       "2   Test_2  253  253  253  253  253  252  251  252  252  ...    255    255   \n",
       "\n",
       "   32324  32325  32326  32327  32328  32329  32330  32331  \n",
       "0    254    254    254    254    253    253    252    250  \n",
       "1    255    255    255    255    255    255    255    255  \n",
       "2    255    255    255    255    255    254    253    252  \n",
       "\n",
       "[3 rows x 32333 columns]"
      ]
     },
     "metadata": {},
     "output_type": "display_data"
    },
    {
     "name": "stdout",
     "output_type": "stream",
     "text": [
      "Shape: (3, 32333)\n"
     ]
    },
    {
     "data": {
      "text/html": [
       "<div>\n",
       "<style scoped>\n",
       "    .dataframe tbody tr th:only-of-type {\n",
       "        vertical-align: middle;\n",
       "    }\n",
       "\n",
       "    .dataframe tbody tr th {\n",
       "        vertical-align: top;\n",
       "    }\n",
       "\n",
       "    .dataframe thead th {\n",
       "        text-align: right;\n",
       "    }\n",
       "</style>\n",
       "<table border=\"1\" class=\"dataframe\">\n",
       "  <thead>\n",
       "    <tr style=\"text-align: right;\">\n",
       "      <th></th>\n",
       "      <th>image_id</th>\n",
       "      <th>0</th>\n",
       "      <th>1</th>\n",
       "      <th>2</th>\n",
       "      <th>3</th>\n",
       "      <th>4</th>\n",
       "      <th>5</th>\n",
       "      <th>6</th>\n",
       "      <th>7</th>\n",
       "      <th>8</th>\n",
       "      <th>...</th>\n",
       "      <th>32322</th>\n",
       "      <th>32323</th>\n",
       "      <th>32324</th>\n",
       "      <th>32325</th>\n",
       "      <th>32326</th>\n",
       "      <th>32327</th>\n",
       "      <th>32328</th>\n",
       "      <th>32329</th>\n",
       "      <th>32330</th>\n",
       "      <th>32331</th>\n",
       "    </tr>\n",
       "  </thead>\n",
       "  <tbody>\n",
       "    <tr>\n",
       "      <th>0</th>\n",
       "      <td>Test_3</td>\n",
       "      <td>199</td>\n",
       "      <td>227</td>\n",
       "      <td>236</td>\n",
       "      <td>241</td>\n",
       "      <td>238</td>\n",
       "      <td>242</td>\n",
       "      <td>245</td>\n",
       "      <td>243</td>\n",
       "      <td>243</td>\n",
       "      <td>...</td>\n",
       "      <td>222</td>\n",
       "      <td>222</td>\n",
       "      <td>226</td>\n",
       "      <td>224</td>\n",
       "      <td>222</td>\n",
       "      <td>227</td>\n",
       "      <td>220</td>\n",
       "      <td>208</td>\n",
       "      <td>194</td>\n",
       "      <td>136</td>\n",
       "    </tr>\n",
       "    <tr>\n",
       "      <th>1</th>\n",
       "      <td>Test_4</td>\n",
       "      <td>243</td>\n",
       "      <td>246</td>\n",
       "      <td>251</td>\n",
       "      <td>252</td>\n",
       "      <td>251</td>\n",
       "      <td>249</td>\n",
       "      <td>250</td>\n",
       "      <td>250</td>\n",
       "      <td>251</td>\n",
       "      <td>...</td>\n",
       "      <td>251</td>\n",
       "      <td>252</td>\n",
       "      <td>252</td>\n",
       "      <td>252</td>\n",
       "      <td>252</td>\n",
       "      <td>253</td>\n",
       "      <td>253</td>\n",
       "      <td>253</td>\n",
       "      <td>253</td>\n",
       "      <td>253</td>\n",
       "    </tr>\n",
       "    <tr>\n",
       "      <th>2</th>\n",
       "      <td>Test_5</td>\n",
       "      <td>251</td>\n",
       "      <td>250</td>\n",
       "      <td>250</td>\n",
       "      <td>251</td>\n",
       "      <td>252</td>\n",
       "      <td>254</td>\n",
       "      <td>252</td>\n",
       "      <td>251</td>\n",
       "      <td>251</td>\n",
       "      <td>...</td>\n",
       "      <td>253</td>\n",
       "      <td>253</td>\n",
       "      <td>252</td>\n",
       "      <td>252</td>\n",
       "      <td>252</td>\n",
       "      <td>253</td>\n",
       "      <td>252</td>\n",
       "      <td>249</td>\n",
       "      <td>248</td>\n",
       "      <td>249</td>\n",
       "    </tr>\n",
       "  </tbody>\n",
       "</table>\n",
       "<p>3 rows × 32333 columns</p>\n",
       "</div>"
      ],
      "text/plain": [
       "  image_id    0    1    2    3    4    5    6    7    8  ...  32322  32323  \\\n",
       "0   Test_3  199  227  236  241  238  242  245  243  243  ...    222    222   \n",
       "1   Test_4  243  246  251  252  251  249  250  250  251  ...    251    252   \n",
       "2   Test_5  251  250  250  251  252  254  252  251  251  ...    253    253   \n",
       "\n",
       "   32324  32325  32326  32327  32328  32329  32330  32331  \n",
       "0    226    224    222    227    220    208    194    136  \n",
       "1    252    252    252    253    253    253    253    253  \n",
       "2    252    252    252    253    252    249    248    249  \n",
       "\n",
       "[3 rows x 32333 columns]"
      ]
     },
     "metadata": {},
     "output_type": "display_data"
    },
    {
     "name": "stdout",
     "output_type": "stream",
     "text": [
      "Shape: (3, 32333)\n"
     ]
    },
    {
     "data": {
      "text/html": [
       "<div>\n",
       "<style scoped>\n",
       "    .dataframe tbody tr th:only-of-type {\n",
       "        vertical-align: middle;\n",
       "    }\n",
       "\n",
       "    .dataframe tbody tr th {\n",
       "        vertical-align: top;\n",
       "    }\n",
       "\n",
       "    .dataframe thead th {\n",
       "        text-align: right;\n",
       "    }\n",
       "</style>\n",
       "<table border=\"1\" class=\"dataframe\">\n",
       "  <thead>\n",
       "    <tr style=\"text-align: right;\">\n",
       "      <th></th>\n",
       "      <th>image_id</th>\n",
       "      <th>0</th>\n",
       "      <th>1</th>\n",
       "      <th>2</th>\n",
       "      <th>3</th>\n",
       "      <th>4</th>\n",
       "      <th>5</th>\n",
       "      <th>6</th>\n",
       "      <th>7</th>\n",
       "      <th>8</th>\n",
       "      <th>...</th>\n",
       "      <th>32322</th>\n",
       "      <th>32323</th>\n",
       "      <th>32324</th>\n",
       "      <th>32325</th>\n",
       "      <th>32326</th>\n",
       "      <th>32327</th>\n",
       "      <th>32328</th>\n",
       "      <th>32329</th>\n",
       "      <th>32330</th>\n",
       "      <th>32331</th>\n",
       "    </tr>\n",
       "  </thead>\n",
       "  <tbody>\n",
       "    <tr>\n",
       "      <th>0</th>\n",
       "      <td>Test_6</td>\n",
       "      <td>250</td>\n",
       "      <td>252</td>\n",
       "      <td>252</td>\n",
       "      <td>253</td>\n",
       "      <td>254</td>\n",
       "      <td>255</td>\n",
       "      <td>255</td>\n",
       "      <td>255</td>\n",
       "      <td>255</td>\n",
       "      <td>...</td>\n",
       "      <td>255</td>\n",
       "      <td>255</td>\n",
       "      <td>255</td>\n",
       "      <td>255</td>\n",
       "      <td>255</td>\n",
       "      <td>255</td>\n",
       "      <td>255</td>\n",
       "      <td>255</td>\n",
       "      <td>255</td>\n",
       "      <td>255</td>\n",
       "    </tr>\n",
       "    <tr>\n",
       "      <th>1</th>\n",
       "      <td>Test_7</td>\n",
       "      <td>254</td>\n",
       "      <td>254</td>\n",
       "      <td>254</td>\n",
       "      <td>254</td>\n",
       "      <td>254</td>\n",
       "      <td>255</td>\n",
       "      <td>255</td>\n",
       "      <td>255</td>\n",
       "      <td>255</td>\n",
       "      <td>...</td>\n",
       "      <td>255</td>\n",
       "      <td>255</td>\n",
       "      <td>255</td>\n",
       "      <td>255</td>\n",
       "      <td>255</td>\n",
       "      <td>255</td>\n",
       "      <td>255</td>\n",
       "      <td>254</td>\n",
       "      <td>252</td>\n",
       "      <td>251</td>\n",
       "    </tr>\n",
       "    <tr>\n",
       "      <th>2</th>\n",
       "      <td>Test_8</td>\n",
       "      <td>251</td>\n",
       "      <td>251</td>\n",
       "      <td>249</td>\n",
       "      <td>247</td>\n",
       "      <td>247</td>\n",
       "      <td>248</td>\n",
       "      <td>249</td>\n",
       "      <td>249</td>\n",
       "      <td>249</td>\n",
       "      <td>...</td>\n",
       "      <td>252</td>\n",
       "      <td>252</td>\n",
       "      <td>252</td>\n",
       "      <td>252</td>\n",
       "      <td>252</td>\n",
       "      <td>252</td>\n",
       "      <td>252</td>\n",
       "      <td>250</td>\n",
       "      <td>250</td>\n",
       "      <td>250</td>\n",
       "    </tr>\n",
       "  </tbody>\n",
       "</table>\n",
       "<p>3 rows × 32333 columns</p>\n",
       "</div>"
      ],
      "text/plain": [
       "  image_id    0    1    2    3    4    5    6    7    8  ...  32322  32323  \\\n",
       "0   Test_6  250  252  252  253  254  255  255  255  255  ...    255    255   \n",
       "1   Test_7  254  254  254  254  254  255  255  255  255  ...    255    255   \n",
       "2   Test_8  251  251  249  247  247  248  249  249  249  ...    252    252   \n",
       "\n",
       "   32324  32325  32326  32327  32328  32329  32330  32331  \n",
       "0    255    255    255    255    255    255    255    255  \n",
       "1    255    255    255    255    255    254    252    251  \n",
       "2    252    252    252    252    252    250    250    250  \n",
       "\n",
       "[3 rows x 32333 columns]"
      ]
     },
     "metadata": {},
     "output_type": "display_data"
    },
    {
     "name": "stdout",
     "output_type": "stream",
     "text": [
      "Shape: (3, 32333)\n"
     ]
    },
    {
     "data": {
      "text/html": [
       "<div>\n",
       "<style scoped>\n",
       "    .dataframe tbody tr th:only-of-type {\n",
       "        vertical-align: middle;\n",
       "    }\n",
       "\n",
       "    .dataframe tbody tr th {\n",
       "        vertical-align: top;\n",
       "    }\n",
       "\n",
       "    .dataframe thead th {\n",
       "        text-align: right;\n",
       "    }\n",
       "</style>\n",
       "<table border=\"1\" class=\"dataframe\">\n",
       "  <thead>\n",
       "    <tr style=\"text-align: right;\">\n",
       "      <th></th>\n",
       "      <th>image_id</th>\n",
       "      <th>0</th>\n",
       "      <th>1</th>\n",
       "      <th>2</th>\n",
       "      <th>3</th>\n",
       "      <th>4</th>\n",
       "      <th>5</th>\n",
       "      <th>6</th>\n",
       "      <th>7</th>\n",
       "      <th>8</th>\n",
       "      <th>...</th>\n",
       "      <th>32322</th>\n",
       "      <th>32323</th>\n",
       "      <th>32324</th>\n",
       "      <th>32325</th>\n",
       "      <th>32326</th>\n",
       "      <th>32327</th>\n",
       "      <th>32328</th>\n",
       "      <th>32329</th>\n",
       "      <th>32330</th>\n",
       "      <th>32331</th>\n",
       "    </tr>\n",
       "  </thead>\n",
       "  <tbody>\n",
       "    <tr>\n",
       "      <th>0</th>\n",
       "      <td>Test_9</td>\n",
       "      <td>250</td>\n",
       "      <td>251</td>\n",
       "      <td>249</td>\n",
       "      <td>248</td>\n",
       "      <td>248</td>\n",
       "      <td>249</td>\n",
       "      <td>248</td>\n",
       "      <td>249</td>\n",
       "      <td>252</td>\n",
       "      <td>...</td>\n",
       "      <td>254</td>\n",
       "      <td>254</td>\n",
       "      <td>253</td>\n",
       "      <td>252</td>\n",
       "      <td>252</td>\n",
       "      <td>253</td>\n",
       "      <td>254</td>\n",
       "      <td>253</td>\n",
       "      <td>253</td>\n",
       "      <td>253</td>\n",
       "    </tr>\n",
       "    <tr>\n",
       "      <th>1</th>\n",
       "      <td>Test_10</td>\n",
       "      <td>245</td>\n",
       "      <td>246</td>\n",
       "      <td>248</td>\n",
       "      <td>249</td>\n",
       "      <td>250</td>\n",
       "      <td>248</td>\n",
       "      <td>247</td>\n",
       "      <td>250</td>\n",
       "      <td>252</td>\n",
       "      <td>...</td>\n",
       "      <td>252</td>\n",
       "      <td>252</td>\n",
       "      <td>252</td>\n",
       "      <td>253</td>\n",
       "      <td>254</td>\n",
       "      <td>254</td>\n",
       "      <td>254</td>\n",
       "      <td>254</td>\n",
       "      <td>254</td>\n",
       "      <td>254</td>\n",
       "    </tr>\n",
       "    <tr>\n",
       "      <th>2</th>\n",
       "      <td>Test_11</td>\n",
       "      <td>252</td>\n",
       "      <td>252</td>\n",
       "      <td>252</td>\n",
       "      <td>252</td>\n",
       "      <td>252</td>\n",
       "      <td>252</td>\n",
       "      <td>252</td>\n",
       "      <td>252</td>\n",
       "      <td>252</td>\n",
       "      <td>...</td>\n",
       "      <td>253</td>\n",
       "      <td>253</td>\n",
       "      <td>253</td>\n",
       "      <td>253</td>\n",
       "      <td>253</td>\n",
       "      <td>253</td>\n",
       "      <td>253</td>\n",
       "      <td>253</td>\n",
       "      <td>253</td>\n",
       "      <td>252</td>\n",
       "    </tr>\n",
       "  </tbody>\n",
       "</table>\n",
       "<p>3 rows × 32333 columns</p>\n",
       "</div>"
      ],
      "text/plain": [
       "  image_id    0    1    2    3    4    5    6    7    8  ...  32322  32323  \\\n",
       "0   Test_9  250  251  249  248  248  249  248  249  252  ...    254    254   \n",
       "1  Test_10  245  246  248  249  250  248  247  250  252  ...    252    252   \n",
       "2  Test_11  252  252  252  252  252  252  252  252  252  ...    253    253   \n",
       "\n",
       "   32324  32325  32326  32327  32328  32329  32330  32331  \n",
       "0    253    252    252    253    254    253    253    253  \n",
       "1    252    253    254    254    254    254    254    254  \n",
       "2    253    253    253    253    253    253    253    252  \n",
       "\n",
       "[3 rows x 32333 columns]"
      ]
     },
     "metadata": {},
     "output_type": "display_data"
    }
   ],
   "source": [
    "print('Training data files:')\n",
    "for file in train_files:\n",
    "    train_data = pd.read_parquet(os.path.join(data_path, file))\n",
    "    print('Shape:', train_data.shape)\n",
    "    display(train_data.head(3))\n",
    "    del train_data\n",
    "    \n",
    "print('Test data files:')\n",
    "for file in test_files:\n",
    "    test_data = pd.read_parquet(os.path.join(data_path, file))\n",
    "    print('Shape:', test_data.shape)\n",
    "    display(test_data.head(3))\n",
    "    del test_data"
   ]
  },
  {
   "cell_type": "markdown",
   "metadata": {},
   "source": [
    "* Rows represent images, all the columns but the first are pixel values\n",
    "    * First column: The ID of the image such that it can be found in the `train.csv`\n",
    "* Pixel values range from 0 to 255\n",
    "* In both train and test sets, there are 32332 values, which represent the 137 $*$ 236 pixels of each picture, whether row by row or column by column will be found out by reconstructing a few images\n",
    "* Each training batch contains 50210 images, they are continously numbered throughout the four files\n",
    "    * We have 200840 training images\n",
    "* Each test batch contains three images\n",
    "    * We have 12 test images, for each we have to make predictions for all three targets, meaning we have to make 36 predictions"
   ]
  },
  {
   "cell_type": "markdown",
   "metadata": {},
   "source": [
    "### A look at a few examples"
   ]
  },
  {
   "cell_type": "code",
   "execution_count": 4,
   "metadata": {},
   "outputs": [],
   "source": [
    "from random import random\n",
    "\n",
    "rand_index = lambda data_frame: round(random() * len(data_frame))\n",
    "\n",
    "first_batch = pd.read_parquet(os.path.join(data_path, train_files[0]))\n",
    "random_index_0 = rand_index(first_batch)\n",
    "random_index_1 = rand_index(first_batch)\n",
    "random_index_2 = rand_index(first_batch)"
   ]
  },
  {
   "cell_type": "code",
   "execution_count": 5,
   "metadata": {},
   "outputs": [],
   "source": [
    "box_shape = (137, 236) # As described in the competition description\n",
    "\n",
    "ex_0 = first_batch.iloc[random_index_0][1:].to_numpy(dtype = float) / 255\n",
    "ex_1 = first_batch.iloc[random_index_1][1:].to_numpy(dtype = float) / 255\n",
    "ex_2 = first_batch.iloc[random_index_2][1:].to_numpy(dtype = float) / 255\n",
    "ex_0 = 1 - ex_0.reshape(box_shape)\n",
    "ex_1 = 1 - ex_1.reshape(box_shape)\n",
    "ex_2 = 1 - ex_2.reshape(box_shape)"
   ]
  },
  {
   "cell_type": "code",
   "execution_count": 6,
   "metadata": {},
   "outputs": [
    {
     "data": {
      "text/plain": [
       "<matplotlib.image.AxesImage at 0x26fda850548>"
      ]
     },
     "execution_count": 6,
     "metadata": {},
     "output_type": "execute_result"
    },
    {
     "data": {
      "image/png": "[encoded data removed]",
      "text/plain": [
       "<Figure size 432x288 with 1 Axes>"
      ]
     },
     "metadata": {
      "needs_background": "light"
     },
     "output_type": "display_data"
    }
   ],
   "source": [
    "%matplotlib inline\n",
    "plt.imshow(ex_0, cmap = 'Greys')"
   ]
  },
  {
   "cell_type": "code",
   "execution_count": 7,
   "metadata": {},
   "outputs": [
    {
     "data": {
      "text/plain": [
       "<matplotlib.image.AxesImage at 0x26fdf7d5dc8>"
      ]
     },
     "execution_count": 7,
     "metadata": {},
     "output_type": "execute_result"
    },
    {
     "data": {
      "image/png": "[encoded data removed]",
      "text/plain": [
       "<Figure size 432x288 with 1 Axes>"
      ]
     },
     "metadata": {
      "needs_background": "light"
     },
     "output_type": "display_data"
    }
   ],
   "source": [
    "plt.imshow(ex_1, cmap = 'Greys')"
   ]
  },
  {
   "cell_type": "code",
   "execution_count": 8,
   "metadata": {},
   "outputs": [
    {
     "data": {
      "text/plain": [
       "<matplotlib.image.AxesImage at 0x26fda661188>"
      ]
     },
     "execution_count": 8,
     "metadata": {},
     "output_type": "execute_result"
    },
    {
     "data": {
      "image/png": "[encoded data removed]",
      "text/plain": [
       "<Figure size 432x288 with 1 Axes>"
      ]
     },
     "metadata": {
      "needs_background": "light"
     },
     "output_type": "display_data"
    }
   ],
   "source": [
    "plt.imshow(ex_2, cmap = 'Greys')"
   ]
  },
  {
   "cell_type": "markdown",
   "metadata": {},
   "source": [
    "### A few tests for resizing"
   ]
  },
  {
   "cell_type": "code",
   "execution_count": 9,
   "metadata": {},
   "outputs": [
    {
     "data": {
      "text/plain": [
       "<matplotlib.image.AxesImage at 0x26fdf6eaf88>"
      ]
     },
     "execution_count": 9,
     "metadata": {},
     "output_type": "execute_result"
    },
    {
     "data": {
      "image/png": "[encoded data removed]",
      "text/plain": [
       "<Figure size 432x288 with 1 Axes>"
      ]
     },
     "metadata": {
      "needs_background": "light"
     },
     "output_type": "display_data"
    }
   ],
   "source": [
    "import cv2\n",
    "\n",
    "resized_cubic = cv2.resize(ex_2, dsize = (32, 32), interpolation = cv2.INTER_CUBIC)\n",
    "plt.imshow(resized_cubic, cmap = 'Greys')"
   ]
  },
  {
   "cell_type": "code",
   "execution_count": 10,
   "metadata": {},
   "outputs": [
    {
     "data": {
      "text/plain": [
       "<matplotlib.image.AxesImage at 0x26f8f268d08>"
      ]
     },
     "execution_count": 10,
     "metadata": {},
     "output_type": "execute_result"
    },
    {
     "data": {
      "image/png": "[encoded data removed]",
      "text/plain": [
       "<Figure size 432x288 with 1 Axes>"
      ]
     },
     "metadata": {
      "needs_background": "light"
     },
     "output_type": "display_data"
    }
   ],
   "source": [
    "resized_linear = cv2.resize(ex_2, dsize = (32, 32), interpolation = cv2.INTER_LINEAR)\n",
    "plt.imshow(resized_linear, cmap = 'Greys')"
   ]
  },
  {
   "cell_type": "code",
   "execution_count": 11,
   "metadata": {},
   "outputs": [
    {
     "data": {
      "text/plain": [
       "<matplotlib.image.AxesImage at 0x26f8f3dc048>"
      ]
     },
     "execution_count": 11,
     "metadata": {},
     "output_type": "execute_result"
    },
    {
     "data": {
      "image/png": "[encoded data removed]",
      "text/plain": [
       "<Figure size 432x288 with 1 Axes>"
      ]
     },
     "metadata": {
      "needs_background": "light"
     },
     "output_type": "display_data"
    }
   ],
   "source": [
    "resized_area = cv2.resize(ex_2, dsize = (32, 32), interpolation = cv2.INTER_AREA)\n",
    "plt.imshow(resized_area, cmap = 'Greys')"
   ]
  },
  {
   "cell_type": "markdown",
   "metadata": {},
   "source": [
    "### Small test for reshaping\n"
   ]
  },
  {
   "cell_type": "code",
   "execution_count": 12,
   "metadata": {},
   "outputs": [
    {
     "name": "stdout",
     "output_type": "stream",
     "text": [
      "[[0.0270675  0.01456612 0.02071928 ... 0.00625396 0.00882016 0.0214634 ]\n",
      " [0.03422737 0.01148878 0.01960023 ... 0.00372629 0.00432901 0.0110268 ]\n",
      " [0.01297291 0.00901828 0.01455368 ... 0.00462391 0.0035422  0.01569692]\n",
      " ...\n",
      " [0.00816819 0.01376493 0.01972532 ... 0.         0.00432204 0.00070235]\n",
      " [0.00771706 0.00761089 0.00846638 ... 0.         0.00392157 0.00417401]\n",
      " [0.02133747 0.00830222 0.01317656 ... 0.00340527 0.00751975 0.00374287]] \n",
      "\n",
      "[0.0270675  0.01456612 0.02071928 ... 0.00340527 0.00751975 0.00374287]\n"
     ]
    },
    {
     "data": {
      "text/plain": [
       "<matplotlib.image.AxesImage at 0x26f8f9c4908>"
      ]
     },
     "execution_count": 12,
     "metadata": {},
     "output_type": "execute_result"
    },
    {
     "data": {
      "image/png": "[encoded data removed]",
      "text/plain": [
       "<Figure size 432x288 with 1 Axes>"
      ]
     },
     "metadata": {
      "needs_background": "light"
     },
     "output_type": "display_data"
    }
   ],
   "source": [
    "print(resized_cubic, '\\n')\n",
    "print(resized_cubic.reshape((32 ** 2, )))\n",
    "plt.imshow(resized_cubic.reshape((32, 32)), cmap = 'Greys')"
   ]
  },
  {
   "cell_type": "markdown",
   "metadata": {},
   "source": [
    "### Distribution of labels\n",
    "\n",
    "Now we need to know whether the labels are balanced. Do we have the same number of occurences for each label?"
   ]
  },
  {
   "cell_type": "code",
   "execution_count": 13,
   "metadata": {},
   "outputs": [
    {
     "data": {
      "text/html": [
       "<div>\n",
       "<style scoped>\n",
       "    .dataframe tbody tr th:only-of-type {\n",
       "        vertical-align: middle;\n",
       "    }\n",
       "\n",
       "    .dataframe tbody tr th {\n",
       "        vertical-align: top;\n",
       "    }\n",
       "\n",
       "    .dataframe thead th {\n",
       "        text-align: right;\n",
       "    }\n",
       "</style>\n",
       "<table border=\"1\" class=\"dataframe\">\n",
       "  <thead>\n",
       "    <tr style=\"text-align: right;\">\n",
       "      <th></th>\n",
       "      <th>image_id</th>\n",
       "      <th>grapheme_root</th>\n",
       "      <th>vowel_diacritic</th>\n",
       "      <th>consonant_diacritic</th>\n",
       "      <th>grapheme</th>\n",
       "    </tr>\n",
       "  </thead>\n",
       "  <tbody>\n",
       "    <tr>\n",
       "      <th>0</th>\n",
       "      <td>Train_0</td>\n",
       "      <td>15</td>\n",
       "      <td>9</td>\n",
       "      <td>5</td>\n",
       "      <td>ক্ট্রো</td>\n",
       "    </tr>\n",
       "    <tr>\n",
       "      <th>1</th>\n",
       "      <td>Train_1</td>\n",
       "      <td>159</td>\n",
       "      <td>0</td>\n",
       "      <td>0</td>\n",
       "      <td>হ</td>\n",
       "    </tr>\n",
       "    <tr>\n",
       "      <th>2</th>\n",
       "      <td>Train_2</td>\n",
       "      <td>22</td>\n",
       "      <td>3</td>\n",
       "      <td>5</td>\n",
       "      <td>খ্রী</td>\n",
       "    </tr>\n",
       "    <tr>\n",
       "      <th>3</th>\n",
       "      <td>Train_3</td>\n",
       "      <td>53</td>\n",
       "      <td>2</td>\n",
       "      <td>2</td>\n",
       "      <td>র্টি</td>\n",
       "    </tr>\n",
       "    <tr>\n",
       "      <th>4</th>\n",
       "      <td>Train_4</td>\n",
       "      <td>71</td>\n",
       "      <td>9</td>\n",
       "      <td>5</td>\n",
       "      <td>থ্রো</td>\n",
       "    </tr>\n",
       "    <tr>\n",
       "      <th>...</th>\n",
       "      <td>...</td>\n",
       "      <td>...</td>\n",
       "      <td>...</td>\n",
       "      <td>...</td>\n",
       "      <td>...</td>\n",
       "    </tr>\n",
       "    <tr>\n",
       "      <th>200835</th>\n",
       "      <td>Train_200835</td>\n",
       "      <td>22</td>\n",
       "      <td>7</td>\n",
       "      <td>2</td>\n",
       "      <td>র্খে</td>\n",
       "    </tr>\n",
       "    <tr>\n",
       "      <th>200836</th>\n",
       "      <td>Train_200836</td>\n",
       "      <td>65</td>\n",
       "      <td>9</td>\n",
       "      <td>0</td>\n",
       "      <td>ত্তো</td>\n",
       "    </tr>\n",
       "    <tr>\n",
       "      <th>200837</th>\n",
       "      <td>Train_200837</td>\n",
       "      <td>2</td>\n",
       "      <td>1</td>\n",
       "      <td>4</td>\n",
       "      <td>অ্যা</td>\n",
       "    </tr>\n",
       "    <tr>\n",
       "      <th>200838</th>\n",
       "      <td>Train_200838</td>\n",
       "      <td>152</td>\n",
       "      <td>9</td>\n",
       "      <td>0</td>\n",
       "      <td>স্নো</td>\n",
       "    </tr>\n",
       "    <tr>\n",
       "      <th>200839</th>\n",
       "      <td>Train_200839</td>\n",
       "      <td>127</td>\n",
       "      <td>2</td>\n",
       "      <td>0</td>\n",
       "      <td>ল্টি</td>\n",
       "    </tr>\n",
       "  </tbody>\n",
       "</table>\n",
       "<p>200840 rows × 5 columns</p>\n",
       "</div>"
      ],
      "text/plain": [
       "            image_id  grapheme_root  vowel_diacritic  consonant_diacritic  \\\n",
       "0            Train_0             15                9                    5   \n",
       "1            Train_1            159                0                    0   \n",
       "2            Train_2             22                3                    5   \n",
       "3            Train_3             53                2                    2   \n",
       "4            Train_4             71                9                    5   \n",
       "...              ...            ...              ...                  ...   \n",
       "200835  Train_200835             22                7                    2   \n",
       "200836  Train_200836             65                9                    0   \n",
       "200837  Train_200837              2                1                    4   \n",
       "200838  Train_200838            152                9                    0   \n",
       "200839  Train_200839            127                2                    0   \n",
       "\n",
       "       grapheme  \n",
       "0        ক্ট্রো  \n",
       "1             হ  \n",
       "2          খ্রী  \n",
       "3          র্টি  \n",
       "4          থ্রো  \n",
       "...         ...  \n",
       "200835     র্খে  \n",
       "200836     ত্তো  \n",
       "200837     অ্যা  \n",
       "200838     স্নো  \n",
       "200839     ল্টি  \n",
       "\n",
       "[200840 rows x 5 columns]"
      ]
     },
     "metadata": {},
     "output_type": "display_data"
    }
   ],
   "source": [
    "train_metadata_path = os.path.join('..', 'data', 'bengaliai-cv19', 'train.csv')\n",
    "train_metadata = pd.read_csv(train_metadata_path)\n",
    "display(train_metadata)"
   ]
  },
  {
   "cell_type": "code",
   "execution_count": 14,
   "metadata": {},
   "outputs": [
    {
     "name": "stdout",
     "output_type": "stream",
     "text": [
      "73      130\n",
      "33      136\n",
      "102     141\n",
      "158     143\n",
      "130     144\n",
      "       ... \n",
      "23     5149\n",
      "107    5321\n",
      "13     5420\n",
      "64     5596\n",
      "72     5736\n",
      "Name: grapheme_root, Length: 168, dtype: int64\n",
      "Range: (130, 5736)\n"
     ]
    },
    {
     "data": {
      "image/png": "[encoded data removed]",
      "text/plain": [
       "<Figure size 432x288 with 1 Axes>"
      ]
     },
     "metadata": {
      "needs_background": "light"
     },
     "output_type": "display_data"
    }
   ],
   "source": [
    "roots = train_metadata['grapheme_root'].value_counts(ascending = True)\n",
    "print(roots)\n",
    "plt.bar(roots.index.to_numpy(), height = roots.values)\n",
    "print('Range:', (min(roots.values), max(roots.values)))"
   ]
  },
  {
   "cell_type": "code",
   "execution_count": 15,
   "metadata": {},
   "outputs": [
    {
     "data": {
      "text/plain": [
       "<BarContainer object of 11 artists>"
      ]
     },
     "execution_count": 15,
     "metadata": {},
     "output_type": "execute_result"
    },
    {
     "data": {
      "image/png": "[encoded data removed]",
      "text/plain": [
       "<Figure size 432x288 with 1 Axes>"
      ]
     },
     "metadata": {
      "needs_background": "light"
     },
     "output_type": "display_data"
    }
   ],
   "source": [
    "vowel_accents = train_metadata['vowel_diacritic'].value_counts(ascending = True)\n",
    "plt.bar(vowel_accents.index.to_numpy(), height = vowel_accents.values)"
   ]
  },
  {
   "cell_type": "code",
   "execution_count": 16,
   "metadata": {},
   "outputs": [
    {
     "data": {
      "text/plain": [
       "<BarContainer object of 7 artists>"
      ]
     },
     "execution_count": 16,
     "metadata": {},
     "output_type": "execute_result"
    },
    {
     "data": {
      "image/png": "[encoded data removed]",
      "text/plain": [
       "<Figure size 432x288 with 1 Axes>"
      ]
     },
     "metadata": {
      "needs_background": "light"
     },
     "output_type": "display_data"
    }
   ],
   "source": [
    "consonant_accents = train_metadata['consonant_diacritic'].value_counts(ascending = True)\n",
    "plt.bar(consonant_accents.index.to_numpy(), height = consonant_accents.values)"
   ]
  },
  {
   "cell_type": "code",
   "execution_count": 17,
   "metadata": {},
   "outputs": [],
   "source": [
    "unique_combinations = set()\n",
    "n_combination_found = dict()\n",
    "\n",
    "for index, row in train_metadata.iterrows():\n",
    "    root = row['grapheme_root']\n",
    "    vowel_accent = row['vowel_diacritic']\n",
    "    consonant_accent = row['consonant_diacritic']\n",
    "    combination = str((root, vowel_accent, consonant_accent))\n",
    "    \n",
    "    if combination not in unique_combinations:\n",
    "        unique_combinations.add(combination)\n",
    "        n_combination_found[combination] = 1\n",
    "    else:\n",
    "        n_combination_found[combination] += 1"
   ]
  },
  {
   "cell_type": "code",
   "execution_count": 18,
   "metadata": {},
   "outputs": [
    {
     "name": "stdout",
     "output_type": "stream",
     "text": [
      "{'maximum number of occurences': 303,\n",
      " 'mean': 155.45,\n",
      " 'minimum number of occurences': 118,\n",
      " 'standard deviation': 14.1}\n"
     ]
    },
    {
     "data": {
      "image/png": "[encoded data removed]",
      "text/plain": [
       "<Figure size 432x288 with 1 Axes>"
      ]
     },
     "metadata": {
      "needs_background": "light"
     },
     "output_type": "display_data"
    }
   ],
   "source": [
    "combinations_series = pd.Series(n_combination_found)\n",
    "index = combinations_series.index.to_numpy()\n",
    "occurences = combinations_series.values\n",
    "min_occurence_num = min(occurences)\n",
    "max_occurence_num = max(occurences)\n",
    "mean_occurence_num = np.mean(occurences)\n",
    "std_occurence_num = np.std(occurences)\n",
    "\n",
    "plt.bar(index, height = occurences)\n",
    "plt.xticks([])\n",
    "plt.axhline(y = mean_occurence_num, color = 'red')\n",
    "plt.axhline(y = mean_occurence_num - std_occurence_num, color = 'red', linestyle = '--')\n",
    "plt.axhline(y = mean_occurence_num + std_occurence_num, color = 'red', linestyle = '--')\n",
    "plt.axhline(y = min_occurence_num, color = 'red', linestyle = ':')\n",
    "plt.axhline(y = max_occurence_num, color = 'red', linestyle = ':')\n",
    "\n",
    "pprint({\n",
    "    'mean': round(mean_occurence_num, 2),\n",
    "    'standard deviation': round(std_occurence_num, 2),\n",
    "    'minimum number of occurences': min_occurence_num,\n",
    "    'maximum number of occurences': max_occurence_num\n",
    "})"
   ]
  }
 ],
 "metadata": {
  "kernelspec": {
   "display_name": "Python 3",
   "language": "python",
   "name": "python3"
  },
  "language_info": {
   "codemirror_mode": {
    "name": "ipython",
    "version": 3
   },
   "file_extension": ".py",
   "mimetype": "text/x-python",
   "name": "python",
   "nbconvert_exporter": "python",
   "pygments_lexer": "ipython3",
   "version": "3.7.6"
  }
 },
 "nbformat": 4,
 "nbformat_minor": 2
}
